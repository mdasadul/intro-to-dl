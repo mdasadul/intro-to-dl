{
 "cells": [
  {
   "cell_type": "markdown",
   "metadata": {
    "slideshow": {
     "slide_type": "slide"
    }
   },
   "source": [
    "# Going deeper with Tensorflow\n",
    "\n",
    "In this video, we're going to study the tools you'll use to build deep learning models. Namely, [Tensorflow](https://www.tensorflow.org/).\n",
    "\n",
    "If you're running this notebook outside the course environment, you'll need to install tensorflow:\n",
    "* `pip install tensorflow` should install cpu-only TF on Linux & Mac OS\n",
    "* If you want GPU support from offset, see [TF install page](https://www.tensorflow.org/install/)"
   ]
  },
  {
   "cell_type": "code",
   "execution_count": 1,
   "metadata": {},
   "outputs": [],
   "source": [
    "import sys\n",
    "sys.path.append(\"..\")\n",
    "import grading"
   ]
  },
  {
   "cell_type": "markdown",
   "metadata": {},
   "source": [
    "# Visualization"
   ]
  },
  {
   "cell_type": "markdown",
   "metadata": {},
   "source": [
    "Plase note that if you are running on the Coursera platform, you won't be able to access the tensorboard instance due to the network setup there. If you run the notebook locally, you should be able to access TensorBoard on http://127.0.0.1:7007/"
   ]
  },
  {
   "cell_type": "code",
   "execution_count": null,
   "metadata": {},
   "outputs": [
    {
     "name": "stderr",
     "output_type": "stream",
     "text": [
      "'killall' is not recognized as an internal or external command,\n",
      "operable program or batch file.\n"
     ]
    }
   ],
   "source": [
    "! killall tensorboard\n",
    "import os\n",
    "os.system(\"tensorboard --logdir=/tmp/tboard --port=7007 &\");"
   ]
  },
  {
   "cell_type": "code",
   "execution_count": 2,
   "metadata": {},
   "outputs": [],
   "source": [
    "import tensorflow as tf\n",
    "s = tf.InteractiveSession()"
   ]
  },
  {
   "cell_type": "markdown",
   "metadata": {},
   "source": [
    "# Warming up\n",
    "For starters, let's implement a python function that computes the sum of squares of numbers from 0 to N-1."
   ]
  },
  {
   "cell_type": "code",
   "execution_count": 3,
   "metadata": {},
   "outputs": [],
   "source": [
    "import numpy as np\n",
    "def sum_sin(N):\n",
    "    return np.sum(np.arange(N)**2)"
   ]
  },
  {
   "cell_type": "code",
   "execution_count": 4,
   "metadata": {},
   "outputs": [
    {
     "name": "stdout",
     "output_type": "stream",
     "text": [
      "Wall time: 550 ms\n"
     ]
    },
    {
     "data": {
      "text/plain": [
       "-1452071552"
      ]
     },
     "execution_count": 4,
     "metadata": {},
     "output_type": "execute_result"
    }
   ],
   "source": [
    "%%time\n",
    "sum_sin(10**8)"
   ]
  },
  {
   "cell_type": "markdown",
   "metadata": {},
   "source": [
    "# Tensoflow teaser\n",
    "\n",
    "Doing the very same thing"
   ]
  },
  {
   "cell_type": "code",
   "execution_count": 5,
   "metadata": {},
   "outputs": [],
   "source": [
    "# An integer parameter\n",
    "N = tf.placeholder('int64', name=\"input_to_your_function\")\n",
    "\n",
    "# A recipe on how to produce the same result\n",
    "result = tf.reduce_sum(tf.range(N)**2)"
   ]
  },
  {
   "cell_type": "code",
   "execution_count": 6,
   "metadata": {},
   "outputs": [
    {
     "data": {
      "text/plain": [
       "<tf.Tensor 'Sum:0' shape=() dtype=int64>"
      ]
     },
     "execution_count": 6,
     "metadata": {},
     "output_type": "execute_result"
    }
   ],
   "source": [
    "result"
   ]
  },
  {
   "cell_type": "code",
   "execution_count": 7,
   "metadata": {},
   "outputs": [
    {
     "name": "stdout",
     "output_type": "stream",
     "text": [
      "Wall time: 574 ms\n"
     ]
    },
    {
     "data": {
      "text/plain": [
       "662921401752298880"
      ]
     },
     "execution_count": 7,
     "metadata": {},
     "output_type": "execute_result"
    }
   ],
   "source": [
    "%%time\n",
    "result.eval({N: 10**8})"
   ]
  },
  {
   "cell_type": "code",
   "execution_count": 8,
   "metadata": {},
   "outputs": [],
   "source": [
    "writer = tf.summary.FileWriter(\"/tmp/tboard\", graph=s.graph)"
   ]
  },
  {
   "cell_type": "markdown",
   "metadata": {},
   "source": [
    "# How does it work?\n",
    "1. Define placeholders where you'll send inputs\n",
    "2. Make symbolic graph: a recipe for mathematical transformation of those placeholders\n",
    "3. Compute outputs of your graph with particular values for each placeholder\n",
    "  * `output.eval({placeholder:value})`\n",
    "  * `s.run(output, {placeholder:value})`\n",
    "\n",
    "So far there are two main entities: \"placeholder\" and \"transformation\"\n",
    "* Both can be numbers, vectors, matrices, tensors, etc.\n",
    "* Both can be int32/64, floats, booleans (uint8) of various size.\n",
    "\n",
    "* You can define new transformations as an arbitrary operation on placeholders and other transformations\n",
    " * `tf.reduce_sum(tf.arange(N)**2)` are 3 sequential transformations of placeholder `N`\n",
    " * There's a tensorflow symbolic version for every numpy function\n",
    "   * `a+b, a/b, a**b, ...` behave just like in numpy\n",
    "   * `np.mean` -> `tf.reduce_mean`\n",
    "   * `np.arange` -> `tf.range`\n",
    "   * `np.cumsum` -> `tf.cumsum`\n",
    "   * If if you can't find the op you need, see the [docs](https://www.tensorflow.org/api_docs/python).\n",
    "   \n",
    "`tf.contrib` has many high-level features, may be worth a look."
   ]
  },
  {
   "cell_type": "code",
   "execution_count": 9,
   "metadata": {},
   "outputs": [],
   "source": [
    "with tf.name_scope(\"Placeholders_examples\"):\n",
    "    # Default placeholder that can be arbitrary float32\n",
    "    # scalar, vertor, matrix, etc.\n",
    "    arbitrary_input = tf.placeholder('float32')\n",
    "\n",
    "    # Input vector of arbitrary length\n",
    "    input_vector = tf.placeholder('float32', shape=(None,))\n",
    "\n",
    "    # Input vector that _must_ have 10 elements and integer type\n",
    "    fixed_vector = tf.placeholder('int32', shape=(10,))\n",
    "\n",
    "    # Matrix of arbitrary n_rows and 15 columns\n",
    "    # (e.g. a minibatch your data table)\n",
    "    input_matrix = tf.placeholder('float32', shape=(None, 15))\n",
    "    \n",
    "    # You can generally use None whenever you don't need a specific shape\n",
    "    input1 = tf.placeholder('float64', shape=(None, 100, None))\n",
    "    input2 = tf.placeholder('int32', shape=(None, None, 3, 224, 224))\n",
    "\n",
    "    # elementwise multiplication\n",
    "    double_the_vector = input_vector*2\n",
    "\n",
    "    # elementwise cosine\n",
    "    elementwise_cosine = tf.cos(input_vector)\n",
    "\n",
    "    # difference between squared vector and vector itself plus one\n",
    "    vector_squares = input_vector**2 - input_vector + 1"
   ]
  },
  {
   "cell_type": "code",
   "execution_count": 10,
   "metadata": {},
   "outputs": [],
   "source": [
    "my_vector =  tf.placeholder('float32', shape=(None,), name=\"VECTOR_1\")\n",
    "my_vector2 = tf.placeholder('float32', shape=(None,))\n",
    "my_transformation = my_vector * my_vector2 / (tf.sin(my_vector) + 1)"
   ]
  },
  {
   "cell_type": "code",
   "execution_count": 11,
   "metadata": {},
   "outputs": [
    {
     "name": "stdout",
     "output_type": "stream",
     "text": [
      "Tensor(\"truediv:0\", shape=(?,), dtype=float32)\n"
     ]
    }
   ],
   "source": [
    "print(my_transformation)"
   ]
  },
  {
   "cell_type": "code",
   "execution_count": 12,
   "metadata": {},
   "outputs": [
    {
     "name": "stdout",
     "output_type": "stream",
     "text": [
      "[0. 1. 2. 3. 4.]\n"
     ]
    },
    {
     "data": {
      "text/plain": [
       "array([0.       , 1.6291324, 2.0950115, 2.6289961, 0.       ],\n",
       "      dtype=float32)"
      ]
     },
     "execution_count": 12,
     "metadata": {},
     "output_type": "execute_result"
    }
   ],
   "source": [
    "dummy = np.arange(5).astype('float32')\n",
    "print(dummy)\n",
    "my_transformation.eval({my_vector:dummy, my_vector2:dummy[::-1]})"
   ]
  },
  {
   "cell_type": "code",
   "execution_count": 13,
   "metadata": {},
   "outputs": [],
   "source": [
    "writer.add_graph(my_transformation.graph)\n",
    "writer.flush()"
   ]
  },
  {
   "cell_type": "markdown",
   "metadata": {},
   "source": [
    "TensorBoard allows writing scalars, images, audio, histogram. You can read more on tensorboard usage [here](https://www.tensorflow.org/get_started/graph_viz)."
   ]
  },
  {
   "cell_type": "markdown",
   "metadata": {},
   "source": [
    "# Summary\n",
    "* Tensorflow is based on computation graphs\n",
    "* The graphs consist of placehlders and transformations"
   ]
  },
  {
   "cell_type": "markdown",
   "metadata": {},
   "source": [
    "# Mean squared error\n",
    "\n",
    "Your assignment is to implement mean squared error in tensorflow."
   ]
  },
  {
   "cell_type": "code",
   "execution_count": 14,
   "metadata": {},
   "outputs": [],
   "source": [
    "with tf.name_scope(\"MSE\"):\n",
    "    y_true = tf.placeholder(\"float32\", shape=(None,), name=\"y_true\")\n",
    "    y_predicted = tf.placeholder(\"float32\", shape=(None,), name=\"y_predicted\")\n",
    "    # Your code goes here\n",
    "    # You want to use tf.reduce_mean\n",
    "    mse = tf.reduce_mean(tf.square(y_true-y_predicted))\n",
    "def compute_mse(vector1, vector2):\n",
    "    return mse.eval({y_true: vector1, y_predicted: vector2})"
   ]
  },
  {
   "cell_type": "code",
   "execution_count": 18,
   "metadata": {},
   "outputs": [
    {
     "name": "stdout",
     "output_type": "stream",
     "text": [
      "Collecting sklearn\n",
      "  Downloading https://files.pythonhosted.org/packages/1e/7a/dbb3be0ce9bd5c8b7e3d87328e79063f8b263b2b1bfa4774cb1147bfcd3f/sklearn-0.0.tar.gz\n",
      "Collecting scikit-learn (from sklearn)\n",
      "  Downloading https://files.pythonhosted.org/packages/67/e5/1459a3d6c6029a86b840b7701c48429d857eb2086916fec76f97c94dcc7a/scikit_learn-0.19.1-cp36-cp36m-win_amd64.whl (4.3MB)\n",
      "Building wheels for collected packages: sklearn\n",
      "  Running setup.py bdist_wheel for sklearn: started\n",
      "  Running setup.py bdist_wheel for sklearn: finished with status 'done'\n",
      "  Stored in directory: C:\\Users\\em1052\\AppData\\Local\\pip\\Cache\\wheels\\76\\03\\bb\\589d421d27431bcd2c6da284d5f2286c8e3b2ea3cf1594c074\n",
      "Successfully built sklearn\n",
      "Installing collected packages: scikit-learn, sklearn\n",
      "Successfully installed scikit-learn-0.19.1 sklearn-0.0\n"
     ]
    },
    {
     "name": "stderr",
     "output_type": "stream",
     "text": [
      "mkl-random 1.0.1 requires cython, which is not installed.\n",
      "mkl-fft 1.0.0 requires cython, which is not installed.\n"
     ]
    }
   ],
   "source": [
    "!pip install  sklearn\n"
   ]
  },
  {
   "cell_type": "code",
   "execution_count": 19,
   "metadata": {},
   "outputs": [
    {
     "name": "stdout",
     "output_type": "stream",
     "text": [
      "Requirement already satisfied: scipy in c:\\users\\em1052\\appdata\\local\\continuum\\miniconda3\\lib\\site-packages (1.0.1)\n"
     ]
    },
    {
     "name": "stderr",
     "output_type": "stream",
     "text": [
      "mkl-random 1.0.1 requires cython, which is not installed.\n",
      "mkl-fft 1.0.0 requires cython, which is not installed.\n"
     ]
    }
   ],
   "source": [
    "!pip install scipy"
   ]
  },
  {
   "cell_type": "code",
   "execution_count": 20,
   "metadata": {},
   "outputs": [],
   "source": [
    "writer.add_graph(mse.graph)\n",
    "writer.flush()"
   ]
  },
  {
   "cell_type": "markdown",
   "metadata": {},
   "source": [
    "Tests and result submission. Please use the credentials obtained from the Coursera assignment page."
   ]
  },
  {
   "cell_type": "code",
   "execution_count": 21,
   "metadata": {},
   "outputs": [],
   "source": [
    "import submit"
   ]
  },
  {
   "cell_type": "code",
   "execution_count": 22,
   "metadata": {},
   "outputs": [
    {
     "name": "stdout",
     "output_type": "stream",
     "text": [
      "Submitted to Coursera platform. See results on assignment page!\n"
     ]
    }
   ],
   "source": [
    "submit.submit_mse(compute_mse,'mdasadul@ualberta.ca', 'iG55kvbQs6XzLbYT')"
   ]
  },
  {
   "cell_type": "markdown",
   "metadata": {},
   "source": [
    "# Variables\n",
    "\n",
    "The inputs and transformations have no value outside function call. This isn't too comfortable if you want your model to have parameters (e.g. network weights) that are always present, but can change their value over time.\n",
    "\n",
    "Tensorflow solves this with `tf.Variable` objects.\n",
    "* You can assign variable a value at any time in your graph\n",
    "* Unlike placeholders, there's no need to explicitly pass values to variables when `s.run(...)`-ing\n",
    "* You can use variables the same way you use transformations \n",
    " "
   ]
  },
  {
   "cell_type": "code",
   "execution_count": 23,
   "metadata": {},
   "outputs": [],
   "source": [
    "# Creating a shared variable\n",
    "shared_vector_1 = tf.Variable(initial_value=np.ones(5),\n",
    "                              name=\"example_variable\")"
   ]
  },
  {
   "cell_type": "code",
   "execution_count": 24,
   "metadata": {},
   "outputs": [
    {
     "name": "stdout",
     "output_type": "stream",
     "text": [
      "Initial value [1. 1. 1. 1. 1.]\n"
     ]
    }
   ],
   "source": [
    "# Initialize variable(s) with initial values\n",
    "s.run(tf.global_variables_initializer())\n",
    "\n",
    "# Evaluating shared variable (outside symbolicd graph)\n",
    "print(\"Initial value\", s.run(shared_vector_1))\n",
    "\n",
    "# Within symbolic graph you use them just\n",
    "# as any other inout or transformation, not \"get value\" needed"
   ]
  },
  {
   "cell_type": "code",
   "execution_count": 25,
   "metadata": {},
   "outputs": [
    {
     "name": "stdout",
     "output_type": "stream",
     "text": [
      "New value [0. 1. 2. 3. 4.]\n"
     ]
    }
   ],
   "source": [
    "# Setting a new value\n",
    "s.run(shared_vector_1.assign(np.arange(5)))\n",
    "\n",
    "# Getting that new value\n",
    "print(\"New value\", s.run(shared_vector_1))"
   ]
  },
  {
   "cell_type": "markdown",
   "metadata": {},
   "source": [
    "# tf.gradients - why graphs matter\n",
    "* Tensorflow can compute derivatives and gradients automatically using the computation graph\n",
    "* True to its name it can manage matrix derivatives\n",
    "* Gradients are computed as a product of elementary derivatives via the chain rule:\n",
    "\n",
    "$$ {\\partial f(g(x)) \\over \\partial x} = {\\partial f(g(x)) \\over \\partial g(x)}\\cdot {\\partial g(x) \\over \\partial x} $$\n",
    "\n",
    "It can get you the derivative of any graph as long as it knows how to differentiate elementary operations"
   ]
  },
  {
   "cell_type": "code",
   "execution_count": 26,
   "metadata": {},
   "outputs": [],
   "source": [
    "my_scalar = tf.placeholder('float32')\n",
    "\n",
    "scalar_squared = my_scalar**2\n",
    "\n",
    "# A derivative of scalar_squared by my_scalar\n",
    "derivative = tf.gradients(scalar_squared, [my_scalar, ])"
   ]
  },
  {
   "cell_type": "code",
   "execution_count": 27,
   "metadata": {},
   "outputs": [
    {
     "data": {
      "text/plain": [
       "[<tf.Tensor 'gradients/pow_1_grad/Reshape:0' shape=<unknown> dtype=float32>]"
      ]
     },
     "execution_count": 27,
     "metadata": {},
     "output_type": "execute_result"
    }
   ],
   "source": [
    "derivative"
   ]
  },
  {
   "cell_type": "code",
   "execution_count": 28,
   "metadata": {},
   "outputs": [
    {
     "data": {
      "image/png": "[encoded data removed]",
      "text/plain": [
       "<Figure size 432x288 with 1 Axes>"
      ]
     },
     "metadata": {},
     "output_type": "display_data"
    }
   ],
   "source": [
    "import matplotlib.pyplot as plt\n",
    "%matplotlib inline\n",
    "\n",
    "x = np.linspace(-3, 3)\n",
    "x_squared, x_squared_der = s.run([scalar_squared, derivative[0]],\n",
    "                                 {my_scalar:x})\n",
    "\n",
    "plt.plot(x, x_squared,label=\"$x^2$\")\n",
    "plt.plot(x, x_squared_der, label=r\"$\\frac{dx^2}{dx}$\")\n",
    "plt.legend();"
   ]
  },
  {
   "cell_type": "markdown",
   "metadata": {},
   "source": [
    "# Why that rocks"
   ]
  },
  {
   "cell_type": "code",
   "execution_count": 29,
   "metadata": {},
   "outputs": [],
   "source": [
    "my_vector = tf.placeholder('float32', [None])\n",
    "# Compute the gradient of the next weird function over my_scalar and my_vector\n",
    "# Warning! Trying to understand the meaning of that function may result in permanent brain damage\n",
    "weird_psychotic_function = tf.reduce_mean(\n",
    "    (my_vector+my_scalar)**(1+tf.nn.moments(my_vector,[0])[1]) + \n",
    "    1./ tf.atan(my_scalar))/(my_scalar**2 + 1) + 0.01*tf.sin(\n",
    "    2*my_scalar**1.5)*(tf.reduce_sum(my_vector)* my_scalar**2\n",
    "                      )*tf.exp((my_scalar-4)**2)/(\n",
    "    1+tf.exp((my_scalar-4)**2))*(1.-(tf.exp(-(my_scalar-4)**2)\n",
    "                                    )/(1+tf.exp(-(my_scalar-4)**2)))**2\n",
    "\n",
    "der_by_scalar = tf.gradients(weird_psychotic_function, my_scalar)\n",
    "der_by_vector = tf.gradients(weird_psychotic_function, my_vector)"
   ]
  },
  {
   "cell_type": "code",
   "execution_count": 30,
   "metadata": {},
   "outputs": [
    {
     "data": {
      "image/png": "[encoded data removed]",
      "text/plain": [
       "<Figure size 432x288 with 1 Axes>"
      ]
     },
     "metadata": {},
     "output_type": "display_data"
    }
   ],
   "source": [
    "# Plotting the derivative\n",
    "scalar_space = np.linspace(1, 7, 100)\n",
    "\n",
    "y = [s.run(weird_psychotic_function, {my_scalar:x, my_vector:[1, 2, 3]})\n",
    "     for x in scalar_space]\n",
    "\n",
    "plt.plot(scalar_space, y, label='function')\n",
    "\n",
    "y_der_by_scalar = [s.run(der_by_scalar,\n",
    "                         {my_scalar:x, my_vector:[1, 2, 3]})\n",
    "                   for x in scalar_space]\n",
    "\n",
    "plt.plot(scalar_space, y_der_by_scalar, label='derivative')\n",
    "plt.grid()\n",
    "plt.legend();"
   ]
  },
  {
   "cell_type": "markdown",
   "metadata": {},
   "source": [
    "# Almost done - optimizers\n",
    "\n",
    "While you can perform gradient descent by hand with automatic grads from above, tensorflow also has some optimization methods implemented for you. Recall momentum & rmsprop?"
   ]
  },
  {
   "cell_type": "code",
   "execution_count": 31,
   "metadata": {},
   "outputs": [],
   "source": [
    "y_guess = tf.Variable(np.zeros(2, dtype='float32'))\n",
    "y_true = tf.range(1, 3, dtype='float32')\n",
    "loss = tf.reduce_mean((y_guess - y_true + tf.random_normal([2]))**2) \n",
    "#loss = tf.reduce_mean((y_guess - y_true)**2) \n",
    "optimizer = tf.train.MomentumOptimizer(0.01, 0.5).minimize(\n",
    "    loss, var_list=y_guess)"
   ]
  },
  {
   "cell_type": "code",
   "execution_count": 32,
   "metadata": {},
   "outputs": [
    {
     "data": {
      "image/png": "[encoded data removed]",
      "text/plain": [
       "<Figure size 432x288 with 1 Axes>"
      ]
     },
     "metadata": {},
     "output_type": "display_data"
    }
   ],
   "source": [
    "from matplotlib import animation, rc\n",
    "import matplotlib_utils\n",
    "from IPython.display import HTML, display_html\n",
    "\n",
    "fig, ax = plt.subplots()\n",
    "y_true_value = s.run(y_true)\n",
    "level_x = np.arange(0, 2, 0.02)\n",
    "level_y = np.arange(0, 3, 0.02)\n",
    "X, Y = np.meshgrid(level_x, level_y)\n",
    "Z = (X - y_true_value[0])**2 + (Y - y_true_value[1])**2\n",
    "ax.set_xlim(-0.02, 2)\n",
    "ax.set_ylim(-0.02, 3)\n",
    "s.run(tf.global_variables_initializer())\n",
    "ax.scatter(*s.run(y_true), c='red')\n",
    "contour = ax.contour(X, Y, Z, 10)\n",
    "ax.clabel(contour, inline=1, fontsize=10)\n",
    "line, = ax.plot([], [], lw=2)\n",
    "\n",
    "def init():\n",
    "    line.set_data([], [])\n",
    "    return (line,)\n",
    "\n",
    "guesses = [s.run(y_guess)]\n",
    "\n",
    "def animate(i):\n",
    "    s.run(optimizer)\n",
    "    guesses.append(s.run(y_guess))\n",
    "    line.set_data(*zip(*guesses))\n",
    "    return (line,)\n",
    "\n",
    "anim = animation.FuncAnimation(fig, animate, init_func=init,\n",
    "                               frames=400, interval=20, blit=True)"
   ]
  },
  {
   "cell_type": "code",
   "execution_count": 33,
   "metadata": {},
   "outputs": [
    {
     "data": {
      "text/html": [
       "<img src=\"data:image/jpeg;base64,/9j/4AAQSkZJRgABAQEASABIAAD/2wBDAAIBAQEBAQIBAQECAgICAgQDAgICAgUEBAMEBgUGBgYFBgYGBwkIBgcJBwYGCAsICQoKCgoKBggLDAsKDAkKCgr/2wBDAQICAgICAgUDAwUKBwYHCgoKCgoKCgoKCgoKCgoKCgoKCgoKCgoKCgoKCgoKCgoKCgoKCgoKCgoKCgoKCgoKCgr/wAARCAEgAbADASIAAhEBAxEB/8QAHwAAAQUBAQEBAQEAAAAAAAAAAAECAwQFBgcICQoL/8QAtRAAAgEDAwIEAwUFBAQAAAF9AQIDAAQRBRIhMUEGE1FhByJxFDKBkaEII0KxwRVS0fAkM2JyggkKFhcYGRolJicoKSo0NTY3ODk6Q0RFRkdISUpTVFVWV1hZWmNkZWZnaGlqc3R1dnd4eXqDhIWGh4iJipKTlJWWl5iZmqKjpKWmp6ipqrKztLW2t7i5usLDxMXGx8jJytLT1NXW19jZ2uHi4%2BTl5ufo6erx8vP09fb3%2BPn6/8QAHwEAAwEBAQEBAQEBAQAAAAAAAAECAwQFBgcICQoL/8QAtREAAgECBAQDBAcFBAQAAQJ3AAECAxEEBSExBhJBUQdhcRMiMoEIFEKRobHBCSMzUvAVYnLRChYkNOEl8RcYGRomJygpKjU2Nzg5OkNERUZHSElKU1RVVldYWVpjZGVmZ2hpanN0dXZ3eHl6goOEhYaHiImKkpOUlZaXmJmaoqOkpaanqKmqsrO0tba3uLm6wsPExcbHyMnK0tPU1dbX2Nna4uPk5ebn6Onq8vP09fb3%2BPn6/9oADAMBAAIRAxEAPwD9/KKKKACiiigAooooAKKKKACiiigAooooAKKKKACiiigAooooAKKKKACiiigAooooAKKKKACiiigAooooAKKKKACiiigAooooAKKKKACiiigAooooAKKKKACiiigAooooAKKKKACiiigAooooAKKKKACiiigAorj/AAR%2B0J8A/iZ431n4Z/Dj44eD/EHiTw5JJH4h8P6J4ltbu%2B0t0kMTrcQRSNJAVkBQh1GGG088VZsPjb8GNV%2BKV78DdL%2BLvhi58babZLeaj4Pt9ftn1S1tiEImktA/nJGRJHh2UA7155FAHT0UUUAFFFFABRRRQAUUUUAFFFFABRRRQAUUUUAFFFFABRRRQAUUUUAFFFFABRRRQAUUUUAFFFFABRRRQAUUUUAFFFFABRRRQAUUUUAFFFFABRRRQAUUUUAFFFFABRRRQAUUUUAFFFFAHyM/iK78Sf8ABRXRvjLpWnfFnWdA8OeFNe0jVrLxH8LL/T9N8KS3FxpcStpco06CXVDdy2xaQ%2BZfIiIZkktohiTl/hp4A%2BIMH7T3hD4cXHwo8UW%2Bu%2BFP2lfG3jrxN4xuPDN1HpV34c1HS9bisfL1Joxb3UhGpaTam1SRpU%2BwMzIqwIT9w0UAeIftr%2BO/2nfhZ4W0Xxt8A/H3gPTba58X%2BHPD%2BoWPi/wHe6rI76rrtjpf2iOW21WzEYiS8MnllH3mMDegORZ/4Qf/AIKF/wDR0HwZ/wDDD6t/81FH7eH/ACRDQ/8Ass3w4/8AU10SvZqAPGf%2BEH/4KF/9HQfBn/ww%2Brf/ADUVW1nQP28/DmkXXiDxD%2B1t8ELCwsrd5729vfgdqkUNvEgLNI7t4pCooAJJJAAGa7b4c/HXS/iD8QvEvwzufBeuaBqfh0xyJFrsUMf9p2byTRLeW4jlctCZYJUywVuFJUB1J8J8Y%2BGPjJ4e0nxP8PPjbo1/rGmfETxRL4atPGUvjN57hUvHkNhJDpUcKw2sELMkLmNhKQjTsCqkjrpYRznyzdnpp1afbWzsrv8Ap2xnVSjdK%2B/9feZ3iT47ft2anB4Xj%2BAH7SfwE8d3Piq8vYrJYvhPqlnCBaQ%2BdOvmnxJJ%2B%2B2lQsJUFt24lUVnHcfCjUv27vi94B0/4geHv2mvhBDBerIktrd/ATVlmtZ4pGhngkH/AAlPDxyxyRsOmUNY/hn4NfFz4x/Eq58Y%2BK/Bep/D7WNLsNLun15mtZobjxHavKj3FvFFKfOtpLSWWJywjLR3LJ95cp7n8FfhhcfCjwZJoOp%2BIxq%2BpXuq3mp6vqaWItkuLq5neaQpCGby0Bbaq7mICjLMck6YqnhaVNRg/e9b736rTa1rWflrpNKVWUrvb%2BvmeDeBx/wWR8RfFHWNF8XeKPgJ4e8H2FxPDpniCf4dapc32qbWxHMlnF4gKRRuAW/eThxkZTOcegf8IP8A8FC/%2BjoPgz/4YfVv/mor2aiuOclN3UUvS/6tm0U0tXc8Z/4Qf/goX/0dB8Gf/DD6t/8ANRR/wg//AAUL/wCjoPgz/wCGH1b/AOaivZqw/iF8T/ht8JPDsni/4qfEDRPDWlQ/63Ute1SGzgXjODJKyrn8amMZSdoq7K3PNf8AhB/%2BChf/AEdB8Gf/AAw%2Brf8AzUUf8IP/AMFC/wDo6D4M/wDhh9W/%2BaiuQn/4Kh/BjxncPpn7Lfwu%2BInxlulcx/afAPhOX%2BzEkzgB9SvDBaBf9pZH78HFNHiv/gqv8XOfD3wo%2BFXwe0%2BX5Wl8V65ceJtVjH98QWQgtVb2M7jPr1rs/s/ER/i2h/iaT%2B7WX/kpfJLrodj/AMIP/wAFC/8Ao6D4M/8Ahh9W/wDmorK8XH9tXwBpZ1vx5%2B2j8BNEsl%2B9eav8F9Stoh/wOTxUB%2BtYn/DB3xr%2BIH779or/AIKJfFfXc8PpvgZ7TwnYsvdStjGbgj63BODyTWt4R/4JZ/sB%2BE9UGv3H7NOh%2BItT6vqnjiWfX7h267i%2BoyTHOeeMY7Yo9lgYfHVcv8Mf1k1%2BQWgup4x4q/4KMP4T1I6Kf%2BCo37O2tXwyBZeD/gRrmuzE%2BgTTvEs5J7YxWb/w3d%2B3rr//ACSnwjrXi1H/AOPe8tP2O9a022l9CJdT8W2w2%2B/P0r7m8K%2BCvBvgTTRovgjwlpmjWa/dtNKsI7eIf8BjUD9K06Pa4CPw0pP1lb8Ix/ULw7HwPH8av%2BDgjxA4bwj%2BzN8I7OBz8k3jHRfsJx6lLTxNeMv0IzXffCy1/wCC7ev%2BI7T/AIW94p/ZT8N6I%2B77ZLo/hPxHqd9F8jbdsTalBE3z7QcyjAJPJAB%2BuqKieIpSjaNKK/8AAm/xl%2BgnJdjxn/hB/wDgoX/0dB8Gf/DD6t/81FH/AAg//BQv/o6D4M/%2BGH1b/wCaivZqK5STxn/hB/8AgoX/ANHQfBn/AMMPq3/zUUf8IP8A8FC/%2BjoPgz/4YfVv/mor2aigDxn/AIQf/goX/wBHQfBn/wAMPq3/AM1FH/CD/wDBQv8A6Og%2BDP8A4YfVv/mor2aigDxn/hB/%2BChf/R0HwZ/8MPq3/wA1FH/CD/8ABQvt%2B1B8Gf8Aww%2Brf/NRXs1FAHxJ4k1P/g4i8P7pdK0j9kfX0H3E0%2Bw8RW8jD3E96qg/8CNYI/aJ/wCC63hg%2Bd8Sv2XvBot1/wBZP4J8CQ6wf%2BAxyeMLaRv%2B%2BRX3zRXZHE0bWlRi/wDwJflJ/kVzLsfK/wCz98Sv%2BChPx%2B0zUr9/GnhvwRNpk8cU1j8Qf2YtX06WYspO6EjxY6TKMYLIxAJA71pfEvxF/wAFBvh74t8EeC7f9oL4M6he%2BNvEj6Xbr/wpTVYRaxRWNzeTXJ/4qZt4VLbbs%2BXLSKNwr6Wrzbx/%2BzPoHjv4y6D8dU%2BI/jDSdb8O288NhbafrKyaeVmiaKQtZ3EcsIYqeXRVf5R83XMU5Yd13Jq0bOy1lrZ27PfW/QFy3PBf2g/jh/wUO%2BCWpXmmaH8V/hH4kfQPDMniXxhJD8GdStk0nR42kDT5fxOTNKfJmKQqAWELfMOM61j8cv2qtQ%2BKkHwitv2sPhYdRubsWMV8f2bdeFgdQNoLz7B9q/4SbyhdfZj5piLbtobupA7f4xfsl%2BOviR4rvrnSPitZ2mj%2BLfD%2Bn6N4%2BS70Uve3dvaTSS7raRJUjhMyyPDIrRsoViyYbOfPfEX7On7TEMWv%2BGPDPhextbLw9rXiTxV4Z1yLWVMmtalcQyLpduIwN8BjWRo5pH4JRSgIchOynRwFSkk5JO3e2/e/Z9F01flSUGjsfA3iP9rf4nXWpWXw4/bp/Z71%2BfRrn7Pq8OjfB3ULl7KXn5Jlj8VkxscHAbGcZFdD/wAIP/wUL/6Og%2BDP/hh9W/8Amormv2OfBt2fGEHi3w/4F13w14W8N/DXR/B2lWviLRJtNur%2BS2BleQ286rIqRGQxq7ABmkmKllIY9x8S/wBtr9lT4MfFW3%2BC3xg%2BNmj%2BFfEF3Zx3NnF4jZ7K2uEcsFCXcyrbs%2BVOUEm8ZGQNwzy1cLL27p0U5WV9rvz2vt%2BF/Ilx1sjM/wCEH/4KF/8AR0HwZ/8ADD6t/wDNRR/wg/8AwUL/AOjoPgz/AOGH1b/5qK9f0vVdM1zTodX0XUoLy0uYxJb3VrMskcqHoyspIYH1FT1ybEnjP/CD/wDBQv8A6Og%2BDP8A4YfVv/morz/wGP8AgshqPxS1Xwf8S/FHwE0nw5BbyzaN4v0f4dapfR3mJVVIZbaTxBDLBKUYucB4xsYbz8ufqairjNRTTinf1081r%2BdyWm2tT5n%2BPHiL/gof8FfhxceNbD47/BfXdRe6t7HRtCPwa1e0bUb64lWG3gWQeI5dpaR1BOw4Xcx4U1f%2BIniP9sD4QaPaa98WP22vgJ4ds729js4LvVvgpqkMLXD52pvfxSAM4PJwOO1egfFb4Bar8Qfid4X%2BK2l/E3UrSXwrdm6tvDN9BHc6PdzfZ7iFZpItqypMouWKyJIANqkoxAxwv7TUPxJ8QeJvDS%2BF/hX4sbxdoN5BJ4c1jSngm0C5Nz5dvfx3gkLFIkgknyZYkcqMwsXO0ddGlQqqEL923s12WullbfXd6aGU51Iczt2t/SNm08Jf8FAL%2B1iv7D9qr4KzwTxrJDND8CtVZJEIyGUjxTggg5BFSf8ACD/8FC/%2BjoPgz/4YfVv/AJqK801T4y654d1/S/i3D8S7rQvDdv4u1Gy0/wAH2NrDHp8PhnSxPFf3U0ITfvLwO6uCNoSMJwxDeyfBX48eL/iL4qn8HfED4Wf8Irfv4bste060bWBdTGzuWkQR3CeUn2e4R4yrRgyLyMOSGCzVwVWlDn3X5f52ur20HCtGTscXqXjH9s34S/Gn4VeGvij8W/hh4l8P%2BPPGt3oOp2mgfC7UdIvLcR%2BH9X1OOaK4m1y7QHzdOjRlaE5WRsFSAa%2Bga8Z/ag/5Lf8As4/9lmvv/UK8UV7NXGbBRRRQAUUUUAFFFFABRRRQAUUUUAeM/t4f8kQ0P/ss3w4/9TXRK6fwD%2B0p8OPih8W/EXwg8BwaxqNz4UDR69rUejyrpdteK6q1iLpgEkuV3bmRN20A5IIxXMft4f8AJEND/wCyzfDj/wBTXRK9lREjBEaBQSSQBjk8k1cXTUXzK76a2t/n6aEtSbVmeXfF34PfFDxf8avB3xM%2BGPjHSPDn9h2d7aa7qN1YPeXN/ZTmJjZpDuSNRviWQTOzbHQYjYM2ertPg78Pk8T2Hj3WfD1tq/iPTLVrey8RarbRy3kKMzFgj7QI87iDsC5GAeAK6eirdeq4qN7WVtNNPN7vf/gCVOKbfcKraxrOkeHtKude1/VbaxsbOBpry9vJ1iigjUZZ3diAqgAkknAAqn43HjVvCOor8OJdLTXTasNKfWopHtFmx8plWNldkHcKyk9MjrXiR1vxV%2B09%2ByR43%2BF/xFvtJ0rxvo73fh7xRiMwWA1OAo8MoWRmZLa5ja2mUFmIjudu4suadKj7Rczel0n3V%2Btu36miVzoPiJ%2B13o9na%2BHH/Z/8OWnxMl8S2mo3tidB8RQJbyW1lDHLMsc4DpJcN50Sxw5XfuZiyqjGvG5v2mfG9/4p8afHjw58W9Uks/Dl3pWoaf4Gu1t47C/8LXHkRSuiGISpepdJfRtIXYK6xqTsdVF/wh8G/iV8Yfjjr3xC0nwbrvwzv7WHT9Tlv9W0xHt/%2BEnidre5aFFkC3lrc2UUCSspQELGVfeXCevfD/8AY%2B%2BFWj%2BDdD0j4seFfD/jTWdE1e91W21jUfDsYS3u7q8lu5Ps0UjSm3hWWX93F5j%2BWEjwxKKR6V8DhI2au9L7N66%2Bceyumn1NPcieh%2BOfDd3408Far4T0/wAV6noM%2Bp6dNbQ63ozol3YM6FRPCZEdBIhO5dysMgZB6V4x8Pf%2BCZ37IngzxFH498YeA7r4ieK05bxb8UtVl8QX5bsym7LRwkdvJjjA7CvfaK82nicRRg405NJ720v81r8r28jNSkloMt7eC0gS1tYEjijQLHHGoVVUDAAA6AU%2BiisBBRRXP/Ej4r/C34N%2BG5PGXxd%2BJOgeFdIiz5uqeI9YgsbdOM8yTMqj86ajKTsldjScnZLU6CivlW8/4LDfso%2BJbyXSP2aPDfxG%2BN99C5SWL4Q%2BALzU7VGHHzX8qw2IGeM%2Bfgd%2B1MH7RH/BVv4r/u/hN/wT88HfD21k%2BaDV/jH8Ukll2di1jo0NyVbHO1p1PY4611fUcSvjSj/iaj%2BDd/wOn6liF8aUf8TS/Bu/4H1bRXymP2dP%2BCsHxF/0v4kf8FGfB3gZJOJdL%2BFXwchk2DuFutYubo59/JHrS/8ADrIeJP3nxf8A%2BChH7THixpObm2HxROjWsnqPJ0iC1wv%2BySfrR9Xw8firL5KT/SKD2FCPxVV8lJ/okfVTukal3YKoGSScACuR8S/tBfAXwYzJ4w%2BN3hDSSn3xqXiW1gK/XfIMV4Kn/BFH/gmpdsJvF37Pl14pmzmSfxn441rWWkb1IvLyRfyAFdd4a/4JX/8ABNPwkqjRP2BvhAGT7st18PdPuJB/wOWJm/WjlwC%2B1J/9uxX5yYcuCX2pP5JfnJm1qv8AwUO/YB0Jimt/ty/B6zK/eF18TNKjI/76uBWPN/wVL/4JoQNtf/goJ8Fyf9j4m6W38p67DSv2Nf2QdCULon7Knw2swv3Ra%2BBtPjx/3zCK2If2d/2f7ddkHwM8HIPRPDNoP5R0Xy/tP/yT/IP9h7T/APJf8jzq2/4Kif8ABNS7YJD/AMFBPgrk9A/xQ0pf/QrgVvaN%2B3p%2Bwz4iYJ4f/bP%2BE98W%2B6LP4i6ZLn/vmc10l1%2Bzf%2BzversvfgJ4LmB6iXwtaMP1jrB1j9hz9inxCpTX/wBj74W3wb7wvPh/psuf%2B%2BoTR/wn/wB//wAkD/Yf7/8A5Kdn4X%2BK3wu8blV8F/EnQNXLfdGl6xBcZ%2Bnlsa36%2BdPFH/BIn/gl74vDDVv2B/hVFu6nS/BtrYn8DbIhFYB/4Iv/ALBGknz/AIa%2BD/G3ga5H%2BruvA3xZ8Q6YY/8AdSK%2B8sf98UcmAe05L1in%2BUg5cE9pyXrFP8pH1VRXyp/w7X%2BLPg7/AEr4I/8ABUf9ojQrhf8AVQ%2BJ9f07xPar6ZTU7KWRvxlpP%2BFW/wDBY74Z/wDIm/tY/Bf4oQdfI%2BIPw3vNBuSPT7Rpd1LGD/tfZ8f7NP6tRl8FaPzUo/mmvxD6vRl8NVfNSj%2Baa/E%2BrKK%2BUT%2B2h%2B338Kv%2BTh/%2BCXWv6pYw/LPrvwV8d6f4hVz/AHlsrv7FdAewVzx3OBWt4H/4K8/sF%2BJfEMPgbx58Xbj4Z%2BJZjtPhn4vaBeeF7tX6bAdRjiikbJA/du/JxSeBxVrxjzL%2B61L8m3%2BAPB4m14x5l/dal%2BTb/A%2BmKKraRrGkeINMg1vQdVtr6yuYxJbXdnOssUqHoyupIYe4NWa5Njl2Cs3xZ4N8IePtCn8LeOvCum61plyuLnTtWsY7mCUejRyAq34itKimm4u6A%2Ba9T/4Je/A3wrqVx4o/ZU8aeMPglrM8hmkk%2BHGuNDps8nUedpdwJbKRAf4REv1FV28af8FL/wBnH/kffh14Z%2BPfhuD7%2BseCGXQPEiRjlnfT7l2tLlsdFhmiJ7L2P05RXasfWnpWSqL%2B9q//AAJWl%2BLL5299Txv4E/t6/s0fH/xG/wAPNA8ZT6B40gH%2Bm/D/AMa6fJpGuW7YyR9kuQrSgd3i8xP9qvZK4T48fsxfAD9p3w4nhb48/CjSPEltCd1nLfW%2BLmyf/npb3CFZbd/9uN1b3rxZ/gh%2B3H%2ByT/p/7MnxUf4v%2BDoOW%2BGvxR1TZq9vGP4NP1vblj0Cx3iuoAx5o60eywmI/hS5JdpbfKf/AMkl6haMttD6korxz9nj9uH4M/tA%2BIbn4ZFNU8HfEHTYt%2BsfDfxrZfYNYtVHWRI2JW6h4yJoGkjIIORnFex1y1aNWhPkqKz/AK%2B9eabXmS007M828ffspfBrxh4a8X6XongrSdA1Pxnb7dX13S9JhW4mlDiRZZMrib94qsytkSYw2c1pfCP4P3nw/wBT1nxp4v8AGD%2BIvFHiJoBrGsmyFtGYYA4gt4YQzCKFPMlYKWYlpXJYk129FU8RWdNwcrp/8DrvbRabaLsZ%2BzgpXSPGP2nWL/G39nIlCv8Axee/GD7eCvFHNez14z%2B1B/yW/wDZx/7LNff%2BoV4or2asSwooooAKKKKACiiigAooooA8H8KfGb9oLQ/2z7f9nT4heIPA/iTS9Z8I6r4iWLwr4cvLG%2B8K20F7bQWK30s17cR3QuhNcKjrHakvYzFEkVZDFhfCz9qf4u67%2B2l4q%2BBvxY8TaJ4Z0W38T3Om%2BANAv/hPrdpc%2BJ7aLS7e7Nxa69PdjT7uRXa7LW8EDSCO1ckAIzjovhN%2BxLefBz4heN/iN4c/ay%2BJt3dePtcn1XW4NWtvDs4Wd2QRLHN/ZAuPKt4UW3hieV0ji4Clvnrfvv2WoPEXxy0X41%2BPfjf418RQ%2BFtaudX8I%2BDtSOmR6Tot9NZ3Fk08X2ayiupittd3UaC5uJlUTsQNyoygHGf8FC/i58KPDXg/wZ8KPEfxO8Paf4p8QfGH4ey6D4avdagi1DUkj8Z6M0jW9uziSYKqsWKKQApJxg19D14z%2B3h/yRDQ/wDss3w4/wDU10SvZqACuJ%2BPv7Q/wh/Zj%2BHs3xM%2BM/i%2BHStNSVYLWPY0tzf3L8R21tCgL3EznhY0BY8noCRj/tT/ALUngz9lrwPa65q%2BkXuveItdvl03wX4L0YB9Q8Q6i4%2BS2gXsB955W%2BSNAWbsDwn7O37IvjPU/iDB%2B1r%2B2nqtl4l%2BKLxMNB0i2JfR/Ats/W005G4acjAlvG/eSEYUqnDdlHDwVP21d2h0S3k%2By7JdZPRbK70VKKtd7Hon7NPxQ%2BMXxh8E3Xj34t/A2b4fR3uos3hrQtT1NZ9SOnbE8uW%2BjRdlrOzbyYA7lFKqxDAik0b9lr4UaZ8add%2BP2pW%2Boat4k14QJLJquoNJa2sUKqsUcNqu2BSu3IlZGm5IMhHFejUVi60lOTp%2B6paWV9u2uvT5/gK%2BugUUUViIKKK8D/ag/wCCgPw9%2BAvjS2%2BAvw18Gat8Ufi/qtsJtI%2BF/g0o12kRwBdX87nydMtMlczzkZB%2BRXIIrSlSqVp8sFd/1q%2BiXm7I0p0qlaXLBXf9b9l5s96lligiaaaRURFLO7HAUDqSewr5h8f/APBVT4KXHi%2B9%2BEv7I3gbxL8fvG1lJ5N3pPwwtkn03TZj0W%2B1eVksbQZyCDKzqRylYFp%2BwV8f/wBsCRfFP/BTr4zfbtEmYSW3wI%2BG1/PYeGbZeqx6jdKUutZkGFLB2jt9wOIipr6l%2BHvw4%2BH3wl8IWXw/%2BFvgfSPDmhadF5dho%2Bh6dHaWtuvokUSqq/gK6eXCUPifPLstI/fu/kkvM35cLQ%2BJ877LSP37v5JLzPmVfhD/AMFU/wBpv/SPjP8AtD%2BGfgF4auPveFPhFZLrOvtE3WObWdQj8iGQf3ra1Ps9dF8Nv%2BCS/wCw14F8SR/EHxj8KZviX4uXmTxl8XdXn8T6i75zvVr9pI4T6eSkYHYV9JUVMsbiLcsHyLtHT72tX85CeMr2tB8q7R0/Fav5sisrKy02zi0/TrSK3t4UCQwQRhEjUDAVVHAAHYVLRRXIcoUUUUAFFFFABRRRQAUUUUAFFFFABRRRQAVkeOPh94C%2BJ3h2bwh8SvBGkeIdJuBi40vXNNiu7eX/AHo5VZW/EVr0U03F3Q02ndHytrP/AASG/Zp8M6nP4q/ZK8W%2BOPgHrk0hle4%2BEniaSy0%2BeTqPO0qYS2EqZ6r5C5HccEU38Sf8Faf2Wxu8V%2BEvBv7S3haD/Wah4YCeFfFkcfUu1pM76feMB/DHLbsx6LyBX1rRXWsbWlpVtNf3tX/4FpL8WdKxlWWlW01/e1f36S/FnhP7Ov8AwUc/Zb/aP8Wv8KtJ8U6h4R%2BINumb74ZfETSpNE8QW/BJxaXGDcLgZ8yBpY8fxV7tXnX7R37JX7OH7W/hNPBf7RXwg0fxRaQP5lhPewFLvT5cgiW1uYys1rICB88To3vXgM3w5/4KCfsCj%2B0/gr4s1T9oz4WWozceA/GGoRp400aAcn%2Bz9TfbHqqqMkW93tmIVVWZiafssNX/AIT5ZdpPT5S0%2B6SXqP2eHr/w3yvtJ6fKX/ySXqfYdFeZfsuftf8AwH/bC8GXHi/4KeLXuJtMufsniPw9qlo9nq2g3gzutL6zlAltpVIYYYYbaSpZea9NrlnTnSm4zVmujOacJ05OMlZoKKKKgk85/aM/ZR%2BB37U/h620T4u%2BEBPd6bL5%2Bg%2BIdOuGtNV0W4GCs9ndxESwOCAflO07QGDDivFR8bf2kv2AZ00j9re/vPiP8JUcR2fxk07T/wDia%2BH484VdctIRiWIDj7dAuOMyxqW3V9YUy4t7e7t3tbqBJYpUKSRyKGV1IwQQeCCO1ddHFuEPZVVzQ7Pp5xe8X%2BD6p7lKVlZ7FXw34l8O%2BMdAsvFfhLXbPVNL1G2S40/UdPuVmguYXGVkjdCVdSCCCCQau18keMfhJ8RP%2BCcmvXvxq/ZX8N32v/CC7uXvPH3wcsF8yXQwx3TapoSH7uOXlsRhHG4x7WwB9NfDH4m%2BAfjN4A0n4p/C7xTaa34f1yyS60rVLKTdHPE3cdwQcgqQGVgVIBBFLEYdU4qpTfNB7Pqn2kuj/BrVO2xKNtVsebftQf8AJb/2cf8Ass19/wCoV4or2avGf2oP%2BS3/ALOP/ZZr7/1CvFFezVykhRRRQAUUUUAFFFFABRRRQAUUUUAeM/t4f8kQ0P8A7LN8OP8A1NdEr0L4w/FvwH8B/hdr3xj%2BJ%2BuJp2geHNNlvtUu3GSsaDO1R1Z2OFVRyzMqjkivPf28P%2BSIaH/2Wb4cf%2BprolcH%2B0PbD9q79tnwd%2ByXJ%2B/8GfDmxt/H3xKgHMV9eec0ei6dL2K%2BbFPePGwIYW0WetdOFoxrVff0ik3L0W9vN6Jeb8ioq71L37HHwW8efEXxpcft6ftR6C9t468TWRh8FeFbv5l8DeH3O6KzRTwLyZdslzLgMWYRDaqEH6UooqcRXliKnM9Fsktklsl5L8dW9WxSbkwooorAQUUV84/8FCv2gPih4Q0zwn%2Byr%2BzHqMVt8W/jHqM2l%2BGNSki8xPDenQoH1LXZU6MtrCw2KT888sK4bJFa0aUq9RQj1%2B5Ldt%2BSWppSpSrVFBf8Murfklqc7%2B0B%2B1B8bf2ivjJqv7Ef/BP7V7aw1bRGWH4sfGO5tRc2HgdXGfsVrGfkvNXZDkRE%2BXACGl5O0evfsp/sd/BD9jrwVceFPhLolzLf6tc/bPFPi3XLo3ms%2BI745L3d/dv89xKxLHnCruIRVXitL9l/9mj4W/sjfBXR/gZ8I9Mli0zS0Z7m9vJfNu9UvJDvuL66lPM1xNIWd3PUnAwAAPQK2rV48vsqOkPxk%2B7/AEWy83dm1avHl9lS0h%2BMvN/otl5u7CiiiuQ5QooooAKKKKACiiigAooooAKKKKACiiigAooooAKKKKACiiigAooooAKKKKAPnj9rD9gvTvi/4yg/aV/Z38bP8Mvjhott5ej%2BPtLtw0WqwrgjTtXthhdQsm2gbX/eRYDRspGDb/Y0/bQv/jvquufAT48%2BBk8B/GrwPFGfGfglrkyQXNux2xatpkrYN1p8xHyuPmiY%2BXIAwBb3yvnn9vr9lHxb8ZdA0f4%2B/s53tvo3xu%2BGEkmpfDrW5PljvwR/pGi3hyPMsrxAYnBI2OUkUgoc9tKrGvFUaz/wy/l8n/d7r7O66p9lKrGtFUqr9Jfy%2BT/u%2BXTddU/oaivNv2RP2mPCP7X37PHhv4/eD9PuNPTWrVl1PRb0YudI1CF2hu7GcEAiWCeOSJsgZ2ZHBFek1yThOnNwkrNaM5ZwlTm4yVmtAoooqSQr5H8V2H/Dtb4%2Br8TfDy/Z/gR8Ttfjg8ZaWvFv4J8Q3LhItUiHSKyupCsc68LHKySAgMy19cVg/FD4aeDPjJ8Odc%2BFHxF0WPUdC8RaXNp%2Bq2Uo4lglQowB/hbByGHIIBHIFdWFrqjNxmrwlpJeXdea3T76bNlRdnrseb/tQf8AJbv2cf8Ass19/wCoV4or2avl%2Bf4aePvg3a/sl/Cn4mfEYeLdX8PfFS9sJPERtDC97DF4M8VLA0ilmJlEIjV3z87qzYG7A%2BoKwqRjCbjF3Se/fz%2BYnowoooqBBRRRQAUUUUAFFFFAHIeBf2hPgH8UPGWs/Dr4Z/HDwh4i8Q%2BHXZPEGhaF4ltbu80xlcxstxBFIzwEOCpDgYYY61Ytfjb8Gb74p3PwLsvi54Ym8b2dgL288HRa/btqsFqQpE72gfzljIdPnK7fmXnkV81/DX4r6Z8WP239W%2BKfiz4SfEXwlpPws0nWvC/gXTbj4NeIYf7a%2B1XlmdR1ZroWH2d4JJbSBLWCKRmeNZrlwd8Yh5nwb8P/AIgxftSeHvhvN8KPFEWvaD%2B074k8e614zl8NXSaVN4dvNC1O3tpE1Mx/Zp5Ct7Yaf9lWQzL9mZjGI4VegD3v9vD/AJIhof8A2Wb4cf8Aqa6JXIf8E7ov%2BE28Q/HP9oq/Hm3fjL406rYWl1/e0zRwmlWqD/ZBtp3HvKavf8FC9N%2BK8/g/wZqPhzxp4etfC0Pxh%2BHo17Rr3wxPcaheOfGejeW1veLexx2wVtpYPbTFgCAUyCK//BLGaOL9l/UfDr2yQ3mi/FLxlYalEhY7bhPEF8zZ3EncQ6see/AAwK7aOmBrNdXBfK8n%2BaRa%2BB/I%2Bj6KKK4iAooooAK%2BS/2RbNvjr/wUS/aH/am1lhcW3gi%2B0/4U%2BCN45s4bS2h1HViv/XW9vYlLdSLRRnjA%2BtK%2BVP8Agluy2GoftJeFLv5b/Tv2pfFUt3G3DbLpLO8gcj0MM8eD/s%2B1dmH93DVpLe0V8nLX8kjqoe7h6slvZL5OWv5JH1XRRRXGcoUUUUAFFFFABRRRQAUV8b/Gz/gtL%2Bz58C/2k9e%2BBHiPwbq99p3h7TpReeJtKuIpRJqiR%2BZ9iSDjKniIzFxtmyrIEBlHz38QP%2BDgjxB40%2BGuteFPB/wC/wCEV8QajaG10vxAfFRu49PaQFWuCgtUYtGDuUDOW5PTa30%2BE4O4ixkYyhQajJRd20laWz3vtq1a6001R8rjONeGsFKUJ105RclZJt3jutravRO9m766M%2B8vjz%2B3N%2Byt%2BzVqi%2BHfi58XrCy1dwpXQ7KKW8vcNypaC3V3QEcgsAD2NfIP7Z//AAWj8LXS6X8Lv2aPEOveGZdQuUk13x5qfhfc1hZc7ha2dwA08rYOC/lqCAA3zF4/Gf2Rf2m9J0zxdr%2Bk/BT43fDP4biG6tg/j/4n6LNd6/4puJlYTXEtxJK6RRmRGYplFjWVM7mLsfsv4XfEe%2B/aQvfE/wCw/wDtr%2BHvCV74yh0htU8JeIbPSIbrTdf0yZCsOqWSTh086JmyQOMjI4V8e7/YmAyGuqmIoyq8ivK8rO2nvez9m4tRum488mtOZbo8D%2B3cx4hw7p4avGjzu0bRur6%2B46ntFJOVmlL2cE9eR7N/n5e/tPfs/Qa9ouieG/HP7RHjXxDcGP8AtTx3Y%2BP30q%2BvriYkNbQ2TLdfKVcRf63czAgFlwW2/Gf7aXhU6PF4c/Zr/ay/aftvGVxe29lpdr8QvE1kdKtt8yxyLcOkhf5VLbX28EDOOcfX37P3/BCj9lX4daXqMXx2u7r4kX13cK1ncyyXWkx2Ua7vlWO1ucuzbhuZ3YfIu0L8274N/wCCvvwn%2BBH7OHxvT4Qfs3/AfUvDraNp4m1G/vtWurmLWWnjikjaAXDt%2B7hG9CVbLuzLgeWCfoKedcM4rETjRjVqKlGU21FSTUVd2hyc0uiUIRTeySV2vEw/DHFs5UaM50KM8ROFOPPUdNKU2ox5qrmqdPvKpUm4xV5Sbdk/fPDn/BSL9r/S/wBmPTvjj4g/bd%2BET6qd7x%2BBr/SFl1m6EEzJ5UsdojGFpwhILJGuJFO%2BMHcvsP7L/wDwWI%2BNv7VvjKPwT8Kv2Dp9VktTA2uX1p8QI0jsYXcIZmE1oq4HzEJvydpAPeqX/BFj9h7SPCv7Luq%2BLv2nPhHoNz4n8a6jMi2Wr2kNzNBpCxLGkEkb7vJdna4LoMEqYw4yoA%2B3vh38JfhZ8IdKk0P4U/DbQfDVnM4ea10HSIbRJXAwGYRKoZvc5NfFYniDhfHYWVShgXzS1g5xVLlT6ShB82nTmd%2BrtsffYjg7i7h3O54DFZlTl7FuFR0Z/WITlDTmp1ZR5Wns3FW0aV7KT6GiiivkD6YKKKKACiiigAooooAKKKKACiiigD5N/ZgtV%2BAH/BTL46/s16ePK0D4gaFpXxW8PWUf%2Brtry4kl03WMe8lxa2s5H964Y/xV9ZV8qTsuqf8ABb20%2Bwnd/Yn7K9yuplf4Te%2BJLc24b3IsbkgfWvquuzGazhJ7uEW/WzX5JHVi9ZQk93GLf3NfkkFFFFcZyhRRRQB4z%2B1B/wAlv/Zx/wCyzX3/AKhXiivZq8Z/ag/5Lf8As4/9lmvv/UK8UV7NQAUUUUAFFFFABRRRQAUUUUAFFFFAHjP7eH/JEND/AOyzfDj/ANTXRK4z9k6YfBv9s/47fsyaj%2B6h1/WLb4l%2BEw/W5tdRiS21Db7R39qxI/6elP8AFXZ/t4f8kQ0P/ss3w4/9TXRK5f8Ab98CeNPCR8KftvfBvQZ9S8V/CG5nuNV0WzX97r/hq4VV1OwUfxyhES5hBziW3AAJeu3BNTlKhJ251Zf4k7x/HT/t4uGunc%2BjqKxPht8RvBfxe8AaP8Ufhz4gg1XQtf06K%2B0rULZspPBIoZW9QcHBB5BBBAIIrbrjlGUZOLVmiNgooopAFfHkkcf7Gv8AwViv/FGtXtxH4K/ap0axtI7q5uGNtp/jTRrZoorcA4SH7bpwG3%2BKSWx285UD7Drzb9rP9mHwF%2B1/8DNX%2BCHj65urJLwxXWja7psnl3uh6lA4ltNQtZBzHPDKqupB5wVOVZgenC1YU5uM/hkrP07/ACaT%2B9dTow1SMJuM/hkrP/P5NJ/eup6TRXzT%2BxN%2B1z471/xTffsX/tiwWujfHLwbZCS6aJPKsvG2lqdkevaZnAeOTA86Ffmt5dyMqjbX0tWdajOhU5Zf8Bro13T/AK1ulnVpToz5Zf8AAa6NeT/rqgooorIzCiiigAooooA%2BAP8AgoR/wSOvvihFJ4j/AGU/Dvgnw7aQWd5qOs6YdJc6jq2oFjIFin2yFFYAKsS%2BWoZjncGGz5Q/Y2%2BDPinw/wDAPxl8W9T/AOCfPhv4mSeH9QvorrWvEnjRbOTQJLe3RniutNeRfMRDlyu1JWyw3Y2kfs1428beE/hv4S1Hx5471%2B20vR9JtXudR1C7fbHBEoyWJ/QAckkAAk18JfszWPwt/b2%2BNv7UWk6DcanZ%2BA/H1rpVvaX2kWM8EN48COhv0llRQsxdQzRFPn3HdvAJP6NknEWZzyarTxCbpU%2BR8/vXtzpSi3GUXJuLuve2jZrlZ%2BZ57w1lcM7o1MM1GtVU1ye5a/I3GSjKEoxSkrP3d5XT5kZ3w28U/wDBHT9p/wDZktb74t6J8K/AfiKbTrdfE1polmmj3lleJskcWpdFkkQlcZj8wEMULMck4PxL1z4X/t3eO/h3%2Byd/wTn8MCx0r4dww3J%2BMiwahDL4Tt18wfZ4Gk8uZ2fy1x5jHzHPG3a0qdn4D/4N8P2cNK01o/iT8aPGWtXpJAm0hLXT4QO37t452z778e1fUn7IX7F3wW/Yn8B3ngT4P21/N/aV8brU9Y1mWKW9vHA2oryRxxrsRchECgLuY43OxMYzOciwTnVwVerVmm3TjO/s4uSab1bcrJ2Slo9E01e94LJOIMcoUcdh6NGm0lUlC3tJqLTUdElG7V3KOq1cWna2p8H/AAV8cPhF8B28N%2BPfiefiX4v0%2B0uXtNVvLCPTvt0mGaCB9rMBztQysSTnca%2Ba/j34e/bk/bk8Nab8CviB%2Bwz4Z8C2Y1RLi%2B8b%2BJvFdlrkGnBEdWktbSHa7SsGKrklcMQ2M71%2B2aK%2BRwuazwuIliFTi6jfMpWa5XrsouMba3s1byto/s8XlEMXho4Z1ZqmlyuN0%2BZafFKUZSvpa6d/O%2Bq/Mz4nf8G/Go6V4J0y9%2BA3x5Nz4zt78Sahd%2BI1NjYPH1DQJbRSywyKwBGWcHttxXHeF/Ef/Bbj9ivQNZ%2BGmmfC/X/FNnezBdO1Q2MviQ2LJwZrV45JCiyAAlJlKjORGjE1%2BslFe3T40zKpT9lj6cMRG97Tjqtb6ONtPK3lqeDU4GyylV9rl9Sphp2tenLR6W1Urq/ne99dD58/4J4fGP8Aa/8AjD8M9Tv/ANr74Nv4W1Kxvki0m8nsWspdTiIYsz2jktEUIUbuFffwBtJP0HRRXzOMxFPFYqdWFNU038Mb2Xpe7PqsFh6mEwkKM6kqjirc0rXfray8gooorlOoKKKKACiiigAooooAKg1XVNM0PTLnW9a1CC0s7OB57u7uZQkcMSKWZ3Y8KoAJJPAAqeviv4/eN9Y/4KffFbU/2HvgPrFzH8HvDepC3/aA%2BImnTFItUZCGbwpp8y/6ySTgXkqHEMRMW7fIVrfD0HWlq7RWrfZf5vZLq/nbehRdaWrtFat9l/n0S6v526H/AIJlQ6l8dvE/xU/4KNa7YzQW/wAZNft7X4ewXURR4/CGlJJbadNtYbozdSPd3hXutxGemK%2Bs6q6FoWi%2BF9Es/DXhzSrew07TrSO1sLG0hEcVvDGoRI0VeFVVAAA4AAFWqWIq%2B3rOaVlsl2S0S%2B5ffcVer7aq5JWXRdktEvuX5hRRRWJiFFFeRftp/tJ3P7NfwdbVPB%2BjrrPjnxLfR6F8OfDSnL6rrVxlYEI7RR8zSsSAsUTkkcVpRpTr1VTgtX/X3dW%2BiTY0m3ZFb9qD/kt/7OP/AGWa%2B/8AUK8UV7NXy9P8KPEnwPtf2S/hf4z%2BIOpeK9b0v4qXo1vxFq15JPNf3sngzxVLPIGkJZY/NdwidEjCIMBRX1DSqRjGbUXdJ79/P5g9GFFFFQIKKKKACiiigAooooAKK8X/AGOfi78cPiVdfFLwd8fr3wpd6z8P/iY3h62vvB%2Bi3Nha3Fq2jaVqSForm6uXMitqDxlw4VxGrBEyRXJfsUftT/F34z/ELxH4I%2BPfibRNH121udYl0n4fn4T634f1BNNtdWktIb%2BO%2B1G7kh1eBofsrPLaQrGr3UeWXeqkA6/9vD/kiGh/9lm%2BHH/qa6JXs1fPH/BQv4ufCjw14P8ABnwo8R/E7w9p/inxB8Yfh7LoPhq91qCLUNSSPxnozSNb27OJJgqqxYopACknGDX0PQB8hX8l5/wS5%2BKd5rwtpX/Zy8b6y1xqAhjLL8NtZuJPnm2j7mlXMjZbHy28zk4VH5%2BuLK9s9Ss4dR067iuLe4iWSCeCQOkiMMqysOCCCCCOCDUetaLo/iTR7rw94h0q2v7C%2Btnt72yvIFlhuInUq8bowIZWUkEEYIOK%2BTm8L/GP/gmPdyX/AMMtA1nx/wDs%2BNK0l34Tsw93rfw%2BUklpLFSS99pq5Ja3yZYB8yb1DLXo%2B7mC1dqv4T%2BfSfrpLupfFfx%2Bv5/8E%2BuqK534U/Fv4afHLwFp/wAUPhD4207xD4f1WHzLHVNMuBJHIO4PdWB4ZGAZSCGAIIroq4JRlCTjJWaI2CiiipA8k/a5/Y2%2BF37YHhHT9N8XXeo6D4m8N3h1DwN4%2B8N3H2fWPDN/jAuLWYDgEACSJsxyr8rqcAjxzwP%2B3T8WP2SPEtj8Cf8AgqRYWOkC5uFs/Cvx80a1MXhbxKScRpfdRot8w%2B9FKfIdg5ikxha%2BvqzvFvhHwp4%2B8M33gvx14Z0/WdH1O2a31LStVs0uLa6iYYaOSOQFXU9wQQa6qWISh7KquaPTuv8AC/zT0fk9Tpp10oezqrmj%2BK9H%2Baej8nqXbW6tb61jvbK5jmhmjDwzROGV1IyGBHBBHIIqSvkKT9gr9oX9kK5k8Qf8EyPjbb6b4fEhln%2BBfxNmuL7wy2Tll066Utd6OTliEQywbmH7oAVp%2BEv%2BCq/w18G%2BIbT4a/t3/C3xB%2Bz34rupRBbv452TeHdRl/6ctdgzZyjpxK0MnPKCqeDc1zUHzrsviXrHf5rmRTwrmr0Hzrt9pesd/mro%2BqqKr6Tq%2Bk6/plvrehanb3tldRLLa3dpOskUyEZDI6khlI5BBwasVx7HJsFFFFAHi/8AwUHg%2BAd7%2ByP4t0r9pjxBf6V4QvIbeG%2B1HS7V5ri3m%2B0Rm3ZFRGyRMI%2Bo29jgE188f8Ei/ir%2B0D8UPFfifxVrnxpk1/4V3HmWHhKx8Watay64t7B5OD5MGfIj8jzGaMnjdGyhgWkb7suLe3u4HtbqBJYpFKyRyKGVgeoIPUV%2BOOifB79r39qv9tBv2pv2SvhXP4L0TVvFk83hvXHu9thpMkAW3nlnEYJjaXyG8yIx/N5u3DLgn7bhynQx%2BT4rCVZKCXvc83FxTfSKaUlKXL8Sb0TXK3v8JxNUr5fneExlGDqN%2B7yQUlOSW7k03GUI82kZJe80%2BZLb9kaKZb%2Bf5Cfaihl2DzDGDt3Y5xnnGafXxJ92FFFFABRRRQAUUUUAFFFFABRRRQAUUVzfxW%2BMfwl%2BBPg64%2BIXxp%2BJeheE9CtR%2B/1bxDqsVnbqcZ275WUFjjhRyewNOMZSdoq7Goyk7JXZ0lc78Vvi58MPgX4C1H4pfGTx9pPhnw7pUJl1DWdavkt7eFewLOQCxPAUZLEgAEkCvmeb/gol8av2nydD/wCCaH7Ml/4tsZjsX4vfEqG40HwjAP8AnrAJEF7qoBBGLeJUPB83HNbHww/4Jp6Tr3j3Tvj3%2B3f8WL344%2BP9Nm%2B0aNHrlilr4a8Ny9jpmjoTDG68D7RMZZztDb1Ndn1WNHXES5f7q1l920f%2B3n/26dX1aNLWu%2BXyWsvu2X/bz%2BRxt940/ae/4KoKfD/wiTxJ8HP2errjUvHl5bvY%2BKvHlsesWlwOA%2Bl2Mi9byUCeRWXy0QFmr6u%2BDnwa%2BF37Pnwz0f4OfBfwRYeHPDOg2gttK0jTYtkUKAkk9y7sxLM7Es7MzMSxJPTUVlWxDqRUIrlgtl%2BrfV%2Bb9EkjOrXdSKhFcsV0/Vvq/P7kkFFFFc5gFFFeZftMftafCT9ljw/Z3nju8u9Q1zWpjbeFfBmgWxu9Y1%2B67QWlsvzOc43OcImQWZRV06VStNQgrt9BpNuyOh%2BOHxw%2BGH7OXww1X4wfGDxTDpGhaRDvubmXLPIxOEhiQfNLK7EKkagszEADmvFf2WfhB8TvjT8WT%2B3l%2B1P4Ym0fXJrCSy%2BFngC9IZvBujy43yzDoNSugFMzDmNAsIPDCm/B39mT4tfHX4maX%2B1Z%2B3dbWi6tpExufh58KLG6Fxpfg4kfLczuPlvtT2nBnx5cRJEQ6MPpiu2c6eEpulTd5vSUlsl/LF9f70uuy0u5U2oqy3PGf2oP%2BS3/ALOP/ZZr7/1CvFFezV4z%2B1B/yW/9nH/ss19/6hXiivZq88gKKKKACiiigAooooAKKKKAPF/gT%2Bx5rHwJ8aeL/Gtp%2B1l8SvEcnjjxXD4g16x8Q2nh0QPdpa29mQn2TSIHSN7e0tomAfOIQylXZ2bU%2BH/7LUHhP40L8efG3xv8a%2BOtestDvtG8O/8ACVHTI4NEsby4tri6ht49PsrXeZHsrMGS4M0gW3UBxuff6pRQB4z%2B3h/yRDQ/%2ByzfDj/1NdEr2avGf28P%2BSIaH/2Wb4cf%2Bprolanhn9sD4Na18adR/Z58RXt/4W8YWl3JHpukeK7I2R1yFTgXOnyMfLu4m5wEYuMHci4rSFKpVTcFe2rt0Xf%2BvnYmU4xtd2uepUUUVmUfOPxQ/Yc8Q%2BDvHuoftA/sJ%2BP7X4ceNtRm%2B0eIfD11atN4Y8WSdzf2aEGGZun2u32yjLFhJmpfhf8A8FBPDlv4ztPgh%2B1/4Duvg78Qbp/KsLLxBdLJo2vOON2mamAIbjOV/cuY5gWCmMkZr6JrA%2BJnwr%2BG3xn8G3fw8%2BLXgTSvEeh36bbvStZsUuIJPQ7XBAYdQwwQeQQa7o4uFWKhiVzW2kviXz2kvKXyki%2BZPSRv0V8ur%2ByB%2B01%2By7/pn7CPx6F54ch5X4R/Fi5n1DTIkH/LOw1EFrywAAwqOZ48nlQBV7Qv%2BClPgfwPq1v4K/bW%2BFniD4Ha7PKIYbzxYq3Hh68kPa21m3zbMMc4mMLjPKih4GVRXw8vaLstJL1i9f8AwHmQcl/h1PpSiquia5onibSbfX/DesWuoWF3EJLW9sbhZYZkPRkdSVYH1BxVquFpp2ZAVn%2BKfCnhbxz4fu/CXjbw1p%2BsaVfwmK%2B0zVbNLi3uIz1SSOQFXX2IIrQopptO6BNp3R83eCP%2BCXX7PfwT%2BKem/FD9lzxT41%2BFENtq6X2seDPA/ieSLw3rYD5eG40ucS20asMrm3WFxnIYGum/b08fXvgr4Lado9p43m8MR%2BLPGujeHr7xJbXXkSaZaXV2izzLKeIj5QdBISNpfIIIFcLrn7S37XH7RHxf8T%2BAv2H9C8E2fhrwNfvpXiDxr48S5khvtUXb5lraJbNkiIH5nYEEkYwNu/zD9pT/AIJI/tF/tsacmrftR/tmWV/qNtAY9O8Paf4MB0W0GSxURmdC7MTgzMu/AUHcFUD6WhgIfWacszxMaeidnec1dXV4qOm6fvSdla66HkV%2BIsXWftMLh54hxdr%2B7GLs2nacn71mnbRptWvbUztL/wCCj3wS/Z0/ZY%2BKq%2BBP2jIvEF9pHibVIPhRY3Wvy%2BINQltAkIhAeaWSSaJZTN5ZnkwVTG7btxxHgf8A4L/C6ttA%2BEfwy8Aah8ZvH/iHXF0zR5brR4vBdtI/CkXAe6vyjiQhS2yNfmB2hQXNLw7/AMG8vjPSNGk8PH48%2BF7ePULi3N3qVr4YmN3YJEcD7KWl2A7cjayhTnnoCPafBf8AwRB%2BEPwEl07xV%2BzF8TbzR/GMVlq9nq3jHxppY1y7uY9RiWOa5hVZbeO1vI9rNFMFdR5kivHKpAX168eCsLCXvyryeqesVeyWtoppX6at%2BRzYTG8S5pUftqccPFyvrHmdrbN8zT6P3VHW6ehwC/tKfH79rC58Nn9oj4taz8M/BviHTdKvdR8OfCKwkmuNKt9SuHtbL%2B2NVkx9k864imhCRK4%2BQmRIxhj96fBL4KfDn9nn4aab8JPhToZ0/RNLV/s8LzvK7O7tJJI7uSzszszEk98DAAA%2Bb9R/Ya%2BJWj%2BM9c%2BD3gnRdHT4ZeLdU8P3Op%2BIp9af%2B0bHTdLtYkbSha%2BTiRpp4Xl%2B0eaABezAxgou76K%2BO%2Bi/HTXvhvd6d%2Bzj468O%2BHPFZmiex1PxToMupWSoHBkR4Ip4XO5cqGDjaTnBxivncxx31mEKNNqFPflirRXZuybb1au3J%2Blz24ZTl2FxCrUm5Tle85ycmk3e3aK6csYrZN3Z2NFfKv23/gtt4c%2BabQP2XvFsafe%2Bz6j4h0OWQeytHeqD9WxUlr%2B0d/wVa0mQ23iT/gmZ4L1MJG7G78N/H%2BHEjBSQojutNiIyQAMtjnnAFef9Tm/hnB/9vL9bHf8AVJPacX/28v1sfU1FfKv/AA2j/wAFC7E/8Tn/AII8eM2UdX0r4veFrgfgHvI2/Sl/4b3/AGwIRi7/AOCQfxiVu4h8WeF5B%2BY1Oj6jiOnL/wCBQ/8Akg%2Bp1/L/AMCj/wDJH1TRXyt/w3j%2B2ZcfLp3/AASA%2BLjN2Fz408LQj8zqRpP%2BGxf%2BCj19/wAgr/gj74ghB%2B62s/Gvw1APx8maYj8qPqNfry/%2BBw/%2BSD6nX62/8Cj/APJH1VRXyqfjv/wV58T/ALnw/wD8E9fhZ4ZJ4WfxT8eJboD3KWWkt%2BQY0f2T/wAFs/FH7i98afsx%2BDYn%2B/Lp2ieINdmjH%2ByZZrNCfqtH1OS%2BKcF/28n%2BSYfVGvinFf8Abyf5Jn1VRXyn/wAMY/8ABQvxn%2B5%2BK/8AwVp8Q2trJ/r7P4a/CjRdFIHok92t7KuPXd74oP8AwR9/Zu8W8/tDfFz40/Fsf8%2B/xD%2BL2qS2uf8Ar0s5La3wf7vl7fan7DCx%2BKrf/DGT/PlQexw0fiq/dFv8%2BVHqHxz/AG%2Bf2J/2aI5v%2BF7/ALVPgTwzcQff07UfElv9tJ7hbZWMzn2VDXlf/D1G3%2BKI%2By/sY/sX/GT4ttNxZa6nhQ%2BG9BlPqdQ1o2wK%2B8ccnsDkZ9d%2BCP7Dv7HH7NnlSfAb9l3wH4UuIh8t/o3he2hum92uAnmufdmJr1OjnwNP4YOX%2BJ2X3R1/8mHz4OHwwcvV2X3R1/E%2BTT4J/wCCvH7Q5z41%2BLfw3/Z80Gf5jp3gXTn8VeIQh4Mb318kNlC2P4o7aXHUH06H4V/8EqP2SPAvjG3%2BK3xM0XW/i545tuYvG/xj1uTxBewnOQYI5/8ARrTB6fZ4Y8dB0FfSNFKWNr25YWgu0Vb73u/nITxda3LC0V/dVvve7%2BbEVVVQqgAAYAHaloorkOUKK838Yfta/AHwnoXi/VbX4i6brl34Hs5LjxDofh%2B/hub6AoVBj8oOMPudEO4qFZ1DFc5rzXxp%2B1Z8VvHGv%2BHfhH8N9GT4eeLdR16607XovGemRagdOmj0%2BS9tYlFvdLE6XIRgs6u4HluuzcykdVPB4ip0su706X9dvJ9ClGTPpKqXiPxJ4d8H6Fd%2BKPFuvWWl6ZYQNNfajqN0kEFvGOrvI5Coo7kkCuZ%2BAPxUuvjH8MbTxjqujpp2pJd3Vjq%2BnxyFlgu7a4kglCk8lC0ZZT3VlrzXxL/wT%2B8AfGD4r3nxP/aj%2BIPiD4m2ceqtdeF/A/iGWOLw9oce7MaiwgVY7uRQdvnXPmkjHAPNTClSjUlGvLlt2V2/JdPm3b1BJX1OY1H9tP4wftT3k3gz/gnR4Bh1LS/MaDUPjX4xtJYfDllg7XNhF8s2rzLhgPL2wBgu6Ug4rvv2bv2Kfh/8BfEF58V/E3iLU/HvxN1mAR6/8SfFZWS/nTqbe3VR5djagk7beEKoGNxcgGvYbKys9Ns4tO060it7eCNY4IIIwiRoowFVRwAAMADpUtaVMXaDp0Y8kXv1b/xS/RWj5MHLSy0CiimXNzbWVvJeXlwkUMSF5ZZXCqigZJJPAAHeuMk8c/ag/wCS3/s4/wDZZr7/ANQrxRXs1eFfHjxV4Y8b/FD9mjxX4M8RWOraXe/GO/ez1HTLtJ4J1/4QvxSNySISrDIIyD2r3Wm007ME0wooopAFFFFABRRRQAUUUUAFFcz8LPjT8HPjnol34m%2BCfxZ8M%2BMdNsNSk06%2B1Dwtr1vqEFveRhWkt5JIHdUlUOhaMkMA6kjkUng742/Bn4ieL9d%2BHvw/%2BLnhjXdf8LTiHxNoej6/b3V5pEhLAJdQxuz27EqwAkCnKn0NAHAft4f8kQ0P/ss3w4/9TXRK7n4zfAj4QftC%2BD5PAfxn%2BH%2BneINMdt8cN7F89vJ2lhkUh4ZB2kjZWHY1w37eH/JEND/7LN8OP/U10SvZqqE505KUXZrqhNKSs1ofNi/C/wDbU/ZU/e/Azxp/wuLwXD93wR481MW%2BvWUf9yz1UjZcgdo7tc4UDzq7D4N/tzfAj4t%2BJx8M9Tv9Q8FeOVA8/wAB%2BPLE6ZqgJ/55JIdl0pxkPA8ikc5r2OuS%2BMXwG%2BDP7QXhg%2BDvjV8NNI8S6eCWih1SzV2gY/xxSffhf/bQqw9a7PrNGv8Ax46/zRsn818L/wDJX5mPs5w/hvTs9vk91%2BKOtor5xX9lb9pz4C/v/wBkT9pue%2B0mL/VfD/4u%2Bbq1iq9BHb6ghF7bKBwoYzqP7uOKeP29da%2BEx%2Bw/tm/s3eK/hysfEnirTITr3h5h0Dm8s1MluD1xPDHgdTwTS%2BpSqa0JKfktJf8AgL1%2B5yH7ZR/iLl/L71%2Btj6Lqrreh6J4l0m40DxHo9rqFhdxGO6sr23WWGZD1V0YFWB9CMVj/AAz%2BL3wq%2BM/h9fFfwk%2BI%2BieJdNbH%2Bm6HqcV1GpP8LGNjtb/ZOCO4roq5JRnTlZppr5P9DVNNXR8261/wTJ%2BEPhfV7jxf%2ByZ8QfFvwP1qeQzSD4eamE0i5l7GfSbhZLKRR6LGh/2qrjxT/wAFRfgQfJ8UfDfwJ8ddFh%2BUaj4Uvz4Z10qOrvaXbSWcrY/hjniz6Dv9NVS8S%2BJNA8G%2BHr7xZ4r1i30/TNNtZLm/vruUJFbwopZ3ZjwAACSa7I46vUajVSqdPeV38pK0vxZbqcsW5bLv/mfPmk/8FTP2YNL1KHw5%2B0Bb%2BLfg5q877I7H4r%2BF59Khc9yl7h7N191nOfzr2K9%2BP/wM0/4dS/F24%2BMPhk%2BFoV3P4hi1yCSzPGQBKrFWJ7KCSegBr571j9s34yftZQ3XhD9h79m%2B38Q%2BHpw0F18Q/iXBJZ6BIM4Pk25XzrxfXABBHKkHNcf4A/4IY/s36hbax4o/aHuV1nxT4gIku5vBFlH4bsNOkzkG1gsVjyw5G%2BTO7qUBJNetLLMtoLmx0nRf8iaqT%2B7Tk/7flf8AuniPNpY33cupuf8AfleNJeaduafpBNP%2Bfqdd/wAEdtFXT/2efFutWGmakmla38UNX1DQdTvkkjj1WxfyliuoI5fnjjYIRhsksrEk9B9aV8zWv7Gf7XPwrto7L9nj/got4n/s%2B2QC20L4peE7DxDDgDCx/aIltblVAGB%2B8YgetSf8J/8A8FWvhzz4p/Z4%2BEXxKtxx5vgrxteaDdEepg1CCaLPt5%2BPcVzZly5nj6mJp1I%2B%2B72bcXsl9pJXstdbX8rHblmXrLsvp4ZSUuRWvtfVvb1btrta%2Btz6Vor5r/4eD%2BN/CP8Ao/xr/wCCfPx08OTJ/wAfFzonhq28RWaDuRLpdzM5A9fLHFTWH/BWn/gn/Jdppnif49r4VvHO1rPxv4d1HRHRv7p%2B3W8S8exI964f7Ox32abf%2BG0v/SXI7%2BSfY%2BjqK898Gftb/sqfEYIfh/8AtMfD/XC/3V0nxjZXBPtiOUnPtXf29zb3kC3NpcJLG4ykkbhlYeoI61yzp1KbtOLXqmvzSJaa3H0UUVAgooooAKKKKACiiigAoqprGvaH4dtDqHiDWrSxgXrPeXKxIPxYgV5l42/bx/Yl%2BHIceN/2uPhvp0ifet5/Gll534RiUufwFaU6Naq7U4t%2Bib/JMaTex6xRXzY3/BWX9i/WCbf4XeJvFnj%2B6P8Aq7XwB8OtZ1Uyf7skNqYj/wB90h/bh/aM8a/L8Ef%2BCaXxUvx/z9eO9Q0vwzB9cT3Mk%2BP%2B2O7/AGa6f7Oxq%2BKHL/iaj/6U1%2BRXJLsfSlFfNW//AIKz/En7tv8ABH4WWU/d31LxRqNuPoBZW5b/AL6B9qQ/sDfFn4hfvP2kf%2BCg3xZ8TK3EuleELm18KafIvdGTToxcMvbm4Jx1Jo%2BqUofxK0V6Xk/wSX4hypbs%2BlBLG0jRLIpZQCyg8jPTP5V4t8K/FfxA%2BF3x78X/AAf%2BNHxYvPENjfaNB4p8Ka1rNpaWogthIbW9sgYIooxHA/2RwWBci8%2BZmNdR%2Bz5%2Byp8A/wBljSdR0f4FfD9NFTWLhJ9XuJNQuLu5vpUUqsk09zJJLKwBIyzHrWh4k/Z4%2BCXjP4p6d8a/Gfw203WPE%2BjWhttF1XVojcnTUJJY2ySlkt3bPzSRqrsAAzEAARGeHhKcdXFrR2V76W6u2t767CTirnzJ/wAKL8TeMPEfhT4L3HgDVryws/EmvzHx5YFDpt94V1X7Tcv/AKSpIF0bkWMnl7TukhD42sWHpPgz9jbxb4nutX1P9pLxnp2pXsul6JY6NqHhGOexuIZtMeWWLVTI7M0d27yKGVSYwsKr8wZwfoXp0orWpmNeStHT897v0v2Wg3NnP/C74Z%2BF/hB4JtfAXhAXbWltJNK8%2BoXr3NxczzSvNNPLLIS0kkksjuzHuxwAMAdBRXnnxr/ax/Zw/Z1jUfGX4xaJol1Lj7PpUlz5t/cZ6CK0iDTyk%2BiIeorljGtiKlopyk%2B2r/AzlOMVeTseh1HdXVtY20l7e3EcMMSF5ZZXCqigZLEngADvXzu37UX7VfxwH2X9lb9lG70jTpeI/G/xjkfSLQDs8WnR7r24UjkbxAD6jrTrb9ge5%2BK1zHrf7bPx1174oyK4kXwrGP7I8NQMDlQNPtmzcbTxuuZJcjqBXR9UjS1rzUfJe9L7k7L5y%2BRj7Zy/hxv57L8dX8kWfFP/AAUB8H%2BI9eufh5%2ByJ4A1T4x%2BJraQxXTeGJVi0TTpP%2BnvVpP9Hj7/ACxmWTjGzNZ8H7HHxY/aJuI9e/b0%2BK8etadvEkPwq8EvNZeHYSDkC6kJFxqZBAP70pFkH91g19BeGPCvhjwToNt4V8GeHLDSNMsoxHZ6dplmkEECf3UjQBVHsBV%2Bn9bjR0w0eX%2B89ZfftH/t1X/vB7Jz/iO/lsv%2BD8/uPDPj94c8PeEPil%2BzP4Y8J6FZ6Zptj8YL2Gy0/T7ZIYLeMeCfFGEREAVVHoABXudeM/tQf8lv/Zx/7LNff%2BoV4or2auJtt3ZvsFFFFIAooooAKKKKACiiigD5V/YW%2BKXhqH4s/HbTofhf8RdCtPEHxlt77w2%2Bt/B7xDpNrdWTeHdEsVmjkurCKMRi4sblCcgIIwzYR0ZuI/YU%2BH/xB0v4w/Cnwxq3wo8UaHqPwn%2BGfjHQfiVr2s%2BGrqys9T1O/wBZ0uaFrW6mjWLU1uXs7u%2B863eVYw48wpJMVr7hooA%2BeP8AgoXpvxXn8H%2BDNR8OeNPD1r4Wh%2BMPw9GvaNe%2BGJ7jULxz4z0by2t7xb2OO2CttLB7aYsAQCmQRteOU/bn%2BGXjHUvFnw/l8L/E7wvd3bzw%2BEdQA0XVtOjJ4htrtd0Fwqj/AJ7qjHpv71P%2B3h/yRDQ/%2ByzfDj/1NdEr2atKVT2b2TT6Nf8ADNfJmNej7aKSk4tbNO3%2Bafo00eJeDf2%2BfgVqevw%2BBfiwdW%2BGPieY7U0D4jWB00zN0/cXLE21wCeAY5WJ9BnFe1wzQ3EK3FvKrxuoZHRshgehBHUVm%2BMfBHgz4h6DN4V8feEtM1vTLgYn07V7GO5gk/3kkBU/lXi0v7BOh%2BAJn1L9lH40%2BLvhXPuLrpOlXv8AaOiM56ltOvN8ag/9MjF7EVtbCVdm4Pz95feveX3M5r5hQ3SqLy92X3O8X8nE99oIBGCMg9RXgI%2BIf7fXwg/d/EL4JeGfijpcXXWPh7qn9makEHVnsL5jG7kc4juPoO1X/Df/AAUL/ZkvtXi8LfETxLqPw61yU4Gi/ErR5tFlz6LJcAQSZ7bJGz26ih4Ou1eC5l/dd/wWv4DWY4VO1RuD7TXL%2BL91/KRY%2BJX/AAT%2B/ZW%2BJPiBvHMPw5PhbxQclPFvgO/m0TUlc/xmazaPzT/10Dj24rnR8Df29PhCM/BX9rLSvHenR8Q6B8YfD4M4T0Gp6cI5C3vJBJ75r6B0rVtK13T4tW0TU7e8tZ03QXNrMskci%2BqspII%2BlWKqONxMVyzfMl0kub89V8mjo9jSfvR081p%2BWj%2B4%2Bdx%2B2N8f/ht%2B5/aN/YV8a2US8Nrvw3uofE9kwHWQxw%2BXdxr3wYCR79a5H/gpJ4u8P/FLw78EfgMby5h034r/ABM0k6naXayWhu9Hi2yzwSq21kdmltwI2w27jGRx9VeIvEOheEtAvfFPifWLbT9N020kub%2B/vZhHDbwopZ5HdiAqqoJJPAAr4u/YM8Jah%2B3LrFz%2B2f8AtB/FK48Q654W8UahpXhDQtJRYtE8PSxBcXVrGSwuXZJEdZZc9shiqsPYyr2MHLMZQ5I0e3M7zlGSgkndK0veb5tElpex4WdSqVlHLYPmnW72SUIyg5t9XePupJatvW1z6T%2BAHjnxdr/iLx18Pta8N6BZaX4H8Rw6NoUnh/zEia3Nlb3KxNG4wjxR3ESHZ8pOcAYxTvAf7S3hzxu2t6nP4H8QaJoGhyagJfF2tR2qaZcJZTPFcSpLHO7IitHJzKkfCMcYFVPgn8Dvid8FLbXoJPi1aeKm13xBd6xc3WseHktbp55olUK8ls6xEBo4xkQghBtxwDXlXjH9mH4uS%2BHPH2uaV8LPCXh9PEGj2Nve%2BCvAupGWHXZk1AXF7eu0tvap9okt2lhRGX5mZt8uGBHnKnhKtaV5Kz5bO7Xa7s9bvV66LruezerCCsu%2Bn5bfL9D37wX8b/hR8QfCt1428LeN7OTS7G6NvfXV1utRbS/LhZFnCNGSHQjcBuDqRkMCeojkjmjWaGRXR1BVlOQQehBr5B8c2ktr8RNM%2BNP7RHw/vtM8F%2BIvFeoalqHh7UdLF6xkttM%2Bw6bHdwQiVWkmWSeQBtyq0FupbdtA98/ZX8M%2BJ/Af7Ofhbw942sXtL6z0rdLp5BLWMbOzx2uBk/uo2SLH/TOssThadKmpxe78n6q63ae/TVF0qspy5Wv6/wCCeiVDf6fYapaPYanYw3MEgxJDPEHRh6EHg14HF/wVG/YotJFtfGXxQ1Dwnc5w9t4y8IappRQ%2Bha5tkT8mNdv4T/bO/ZD8dhR4O/ai%2BH2ou/SG18YWTSD2KeZuB9iKzlgsbTV5U5L5P80n%2BZSr0ZPSS%2B9EPjP9iH9jP4iF38dfsn/DfVpH%2B9PfeCrGSXPqHMW4H3Brgbj/AIJG/wDBO15nudK/ZsstGkc5L%2BGtd1HSjn2%2Bx3EWPwr6F0nW9F161F7oer2t7Cek1pcLIp/FSRVqnDG46krRqyX/AG9L8r/obqcraM%2Bbf%2BHXPwM03jwN8Zfjd4YUfdTQvjbrqKv0Ety/60f8O5b%2B240f/goF%2B0lZgdB/wsaC5x/4FWcufxr6Soqv7Rx3Wd/VRf5xY%2Befc%2Bbf%2BGDPjNacaR/wU1%2BOyAdPts%2BhXB/NtMGaP%2BGJv2m04g/4KifFoD/ppoPh5j%2Bf9nV9JUUf2hiu6/8AAYf/ACAc8v6t/kfNv/DEf7SkvF3/AMFQvi6w7%2BTovh6M/mNOo/4YC%2BKV6Ma3/wAFL/2gZPUWOq6JbZ/750s4r6Soo/tDF9Gv/AYf/IBzy/q3%2BR82n/gm9Bdf8hv9uz9pK9B%2B8P8Ahaz2uf8AwEhix%2BGKP%2BHVP7Luqf8AI%2BeJfir4qz97/hIvjP4hlDfUJeIDX0lRR/aOO6VGvSy/KKDnn3PnfR/%2BCTf/AATl0e7F%2B37JXhfUpx/y28QJNqbH6m7kkz%2BNem%2BCf2XP2ZvhoyN8Of2dvAugGP8A1baL4Ss7Ur9DFEtd3WX4j8c%2BCfB8Rn8W%2BMNK0tAMl9R1COAY%2BrsKieLxtfSVSUvK8n%2BF/wBCXOVtWagAUBVAAA4AoryLxd%2B39%2BxB4GDDxL%2B1p8PYZE%2B/bweK7WeUf9s4nZ/0rmD/AMFOf2W9Y/d/DIeOfHM38MPgv4a6xfbvpILYRn8HojgcbNXVOVvRpfe7L8TF16CdnJff/wAOfQlFfPf/AA2R%2B0B4t4%2BEf/BO34mXg/5%2BPGeo6X4fi%2BuJrmSXH/bPPtSHV/8AgqJ46%2Bew8G/Bn4e20vBGp6tqPiG8hHrthjtISR/vke1V9Rqx%2BOUY%2Bso/kuZi9vB/Cm/RP9bH0LVLxB4k8O%2BE9Lk1zxVr1lpllCMzXmoXSQxIPd3IA/E14P8A8Mi/tNeOOPjV/wAFCvG0sB5Nh8PNA0/w7GD3HmhJ7jH/AG1B9CKuaB/wTQ/Y20/VI/EXjH4WS%2BONWQ5bVviNrV3r8zt/eIvpZIwf91AKPY4OHx1b/wCGL/OXKvwDnrS2jb1f%2BVxfEv8AwUq/Y/0vVZPDPgj4kT%2BPtaThdE%2BGujXOvzu393dZI8an/edRWef2hf24visfK%2BB/7GEPhSyl/wBT4g%2BMPiaO0Kj1OnWHnzk%2BzvH%2BHb3nw34W8M%2BDtJj0Hwh4csNKsYRiKy02zSCJPoiAAfgKv0/b4Sn/AA6V/OTv%2BEeVfiw5Ksvilb0X6u7PnY/siftG/Ff99%2B03%2B2x4kltJPmk8L/C2xTw3YjP3o2uFaW9mTHH%2BuTPp1z6F8Ff2Q/2aP2eJGvPg/wDBrRdIv5c/aNaNubjUJyepku5i88mefvOep9a9Hrzy/wDjhr%2BifFLTvBHiT4T6jp%2Bj6zrEmlaP4hn1G2b7Vdrby3H/AB7oxdYmSCXa5O4lDlFGDSeJxdeLgnaPZWivuVr/ADuRJYeg1KW7dru7/HW34HodZHjTx14V%2BH3hu78W%2BLNU%2Bz2NjtFw8UEkz7mYKqLHErO7sWUKiqWYsAAc14d8R/iz8TfC3xF8XeM4/iFNBp3g/wAR6TZXPhOe2gNpLpN5Fbo93vEYm8xZp/M3%2BZtVYWTb1J8s8M/D570WPwf%2BE9nDp/jm00KeTxbp0kQiU6zpN4l1p2o3eAMvc3Bz9qwTKpf5mCYF08EmuactP6evbda6rU4q2ZuMnGnDXVa9XdpWS31T0unZH2H4F8feE/iT4ej8UeDNXF3ZvI0bExPHJFIpw8UkbgPFIp4KOAw7ivNPid%2B1Z4i0bxxf/CX4H/s8eLvHnibTmRL6RLX%2BzNHsndFkUTajdBYydjq2IVlODjGeK2fgJ4f8aW/ifxt448UeCLvwzB4j1m3ubLRb69t5pA0drHFLcMbeSRF8x14G7cVjQsqsSo9KrB%2Byo1Xdcy9fztvbbRo6l9YxGHVpcj6u2ttVopbX0eqdux4D8Ybjx5dePP2Ybn4n6Zpdnr7/ABevTqlrol3JPaxS/wDCFeKfljkkRGYYxyVHOa9%2Brxn9qD/kt/7OP/ZZr7/1CvFFezVg3d3OuK5YpXuFFFFIYUUUUAFFFFABRRRQAUUUUAeM/t4f8kQ0P/ss3w4/9TXRKm8ZWv7bHgjxXqHiP4f6n4N8d%2BH7i6ea38MaxDJo%2BoWcRPEEN3H5sUuB/FLGpPdvWH9vD/kiGh/9lm%2BHH/qa6JXskcsUoJikVtrFTtOcEdR9auE%2BR7J%2BpzYrDLExS55Qa1Ti7P8AJpryaaPEYf26fA/hGVdO/aN%2BGvi74Y3W4I114k0gz6Y7%2BiahaebAR7uyfTpXrXg3x54H%2BImjp4h8AeMdL1ywk%2B5e6RqEdzEf%2BBxsRWpNDFcRNBPEro6lXR1yGB6gg9RXkvjH9hr9mfxXrD%2BKtL%2BH/wDwi2utkrr/AIHvptGvFb%2B8XtGQOf8AfDVd6Et04/ivxs/xZxcmc4f4ZQqr%2B8vZy%2B%2BPNB/OMT1yqPiPwv4Z8Y6RLoHi7w7Y6rYTjE1lqVok8Mg/2kcFT%2BIrxz/hSH7Xfw4%2Bb4RftXReIrOP/U6L8UfDyXZI9DfWZgm/Flf8e/pPwk1T4v6r4Ykf42%2BENE0fWYbx4lj8PavJeWtzCFUrMrSRRvHliw2MCRtBzzgKUORc0ZJ/en925tQxk68/ZVqE4O3VKUX/ANvRbXyaV%2Bx5lqn/AATr/ZtttQl134S2fiD4Z6nM25774a%2BI7jSVJ97dGNsw9miI7dK4T9oTWv2t/wBiD4Rat8aE/at0rxtoWjJGseh%2BPfBKm%2BuXkkWOKCO6054d8juyqC8RAzljgHHrH7QOu%2BIbbxNoul/C7x5rCeLpLmBbXw7pyxS2kts08fnz3yPG3lwrFv8A3m%2BNsgKhZiFPhv8AwWb%2BIM2k/s7XHgGfw/DPb39oL2G%2BkhvBJDfR3VtHbLbyw4RZg0rSbZSAyRPjJr1ssdTFY%2BhSrvmhKSTTSbtdXs3r8797bHh5vXwmAy/FVqEXTlTWji2k5NO2kXa6e6cdNL72PNvGngb9uP8AaD8XaL43/wCCgH7NniPXvhxawNeWvw5%2BF91aqFnkVdhvUa9juZmjH8AJw2cbcsjfQXwx/bX/AGGvgz4asfhetlefCO1tMpa%2BH/Fvgm80OOEsSWO%2BWEQlmYklvMJYkkk5zXc/D745HRbrQvhV4o0XWb%2B5tGtfD%2Bq%2BLi8L2kmtLYpPJExMglYkZzKIynmfISG4rrPBPxb%2BFvxhe%2B0Xwpqw1NbeFJLiO402aOK4gkLKk0RmRUuIWKOBJGXQ7TzVY7MZ4qKpVIWpx2UG4wWr15XdXfd%2B8%2BrLy7CYfD1HUoV1KrPRuolKbdk2uZcsrLtH3VZ2vYteBfi/8Jvihbi7%2BGnxP8PeIYiu4SaHrUF2MeuYnauiryfx1%2Bwp%2Bxz8SLg33iv9m3wi92W3G/sdHjs7kn1863CSZ991c7/w7%2B8DaB8vwn%2BPnxe8FRL/AKq00T4iXVzbIf8Arjf/AGhMfhXmcmDltNr1jf8AGL/Q9v2mYw%2BKnGX%2BGTX4Sj%2Bp71RXgw%2BAP7bHhnnwX%2B3gupxR/wCqtPGvw3sbrcPRprN7Z/xwTR9v/wCCmPhz57nw58FPFcSdVs9S1XR5pB7CSO5QH/gWKPq0X8NSL%2BbX5r9Q%2Buzj8dGa9Epf%2Bky/Q93lijmjaGaNXRhhlYZBHoRXEeLP2Yv2a/HpY%2BOf2e/A%2Bsl/vnVfCdncE/jJGa8//wCGiv2zNF58Vf8ABPu%2BuY1/1k3hb4k6XefiEuPszn6Yo/4bm1DTvk8WfsW/HPTWX/WND4Ij1BB9DZXExI/Crhh8XB3pv/wGS/SSE8wwTXv3X%2BKEl%2BcGGrf8EwP2AdWuTe/8MteGbGY9JdEil09h9DavHj8Kq/8ADsr9mXTufBmp/Ebw2R0Og/FrXodv0DXbAfgKt/8ADx/9mew%2BTxevjnw6/ePXvhhrcG36kWjKPxNSWv8AwUv/AGEbqYW8v7S3h%2B0kP/LPU/OtGH1E0akV0c%2Bdpbzf3v8A%2BSMvreTX%2BOC%2BaX58pQH/AAT6tLXjRf2zv2grID7oHxQlucf%2BBUUv60f8MP8AxOsf%2BQH/AMFEPjhF6C%2Bv9Husf996cK6/Tf25/wBi3VwPsP7Wfw4JPRZPGllGx/B5Qa27L9p/9mrUgDp37Q3gafPTyfFtm2fylqHiMzXxJ/OC/WmbRqZdL4Zx%2BU1/8mebf8Mj/tP2/Gnf8FJ/iKoHT7T4W8PzfzsRSf8ADLP7Yy8Rf8FMvGAH%2B38O/Djf%2B2deuQfG34MXQza/F3wxIP8Apnr9sf5PVhfit8LnGV%2BJOgH6axB/8VUfW8Yt4r/wCP8A8gaKOFe0v/Jv/tjxv/hlb9sGTi4/4KY%2BMyP%2Bmfw/8Op/Kzpf%2BGP/ANpC641T/gpH8TnB6/ZNB0GD%2BVgcV7E/xa%2BFcQzJ8TPD6j1bWYB/7PVS5%2BO/wPswTefGXwpEB1MniK2X%2Bb0LFY17RX/gEf8A5AGsKt5f%2BTf/AGx5P/wwr44vPm1v/goN8eZz3W11/S7VT/3604EfnR/w7x8NXnHiD9rD4%2B6mp%2B9HP8W72FG%2Bq23lCvRL79q79lvSwTqX7SfgC3A6%2Bf4xsUx%2BctYWqft9fsRaQCbv9rP4etjqLbxZazH/AMhu1Wq%2BaS%2BFP5QX6UzKVXLYfFUj85r/AOTOY/4dffsf33z%2BK/Dfi3xBIfvP4g%2BJeu3W76q15sP/AHzWp4c/4Jr/ALA3heUTad%2ByP4FncHO/VNBjvmJ9SbgPk1Xf/gpp%2BwwXMdh%2B0BYaiwONuj6Xe3p/AQQvmm/8PE/gdqXHgjwL8UfExP3f7C%2BFGsvu%2BhktkFW5Z01ZuaXq1%2BsTJYvJ09JwfpZ/kpHqfhH4K/BvwAVPgP4S%2BGdEKfcOkaDb2236eWgxXTV4Mf21PHWsfuvBH7Cfxnv5D9xtU0aw0uI/Vrq8Vh%2BK0f8AC8P27td/deHv2F9L0jf9248VfFS0XZ7tHZQXGfoGrmlhsTJ3m185L/5Js1WYYRK0FJ%2BkJv8A9tSPeaK8G/s3/gph4l/dXfij4LeE4n6vY6ZqmsTxj2MklshP1Wk/4Ze/ak8UfuviT/wUD8VeQ337fwT4R0vR8f7sjx3Eo/77NT9Xpr4qsV6Xf5L9R/XKsvgoTfryx/OV/wAD3quE%2BIn7UP7N3wkEg%2BJnx48I6HJHndbaj4gt45ifQRl97H2AJrgP%2BHc/wC1z5/ix4k%2BIHj5/%2Bpz%2BIepXMf8A35jljhx7bMe1d38O/wBlP9mb4SmOT4a/AHwfos0eNt1YeHrdJ8juZdm9j7kmjlwcd5Sl6JL82/yDnzKe0Ix9ZOT%2B6KS/E4M/8FE/gx4j%2BT4K%2BAfiL8R26CTwZ4EvHt89s3NysMGP9rzMe9H/AAtv9vr4hfu/h/8Asp%2BGPBVu3MepfEfxoLiTb6m001JMH2My%2BhxXvdFHtqEfgpr/ALebf4e6g%2BrYup/ErP0ilH8XzM4b4I%2BFvj74es9Quvj78WdF8S3t7LG9nbaB4ZOnW2mqA2%2BNC00skwYkHc5BG3pzWV8TvhX8X/GPxu8N%2BOvCvjLw5pui%2BH9LuEjj1LRp7y6F3PIiyyxhZ4o1P2dDGrtv2%2BbIdhyK7Dxz8VPhj8MbP%2B0PiR8RdD0CDbuEus6tDaqR7GRhmvL5/wBv34FaxK1n8ItN8W/EW5RirReBPCd1eRA%2B9yypbge5kxSg68pupGO/lp28l%2BJhicTleFgqFesk007Od5uzvsuab/8AATu9Y%2BAvw38Waxpfifx3ow1vV9Il8y01S8xHIcSCVFdYAiSojqrKrqwUqD15rs8AdB1rw8/E39uT4h/J4B/Zz8N%2BCLVuU1H4h%2BJvtU5U9/senhsN7NOvvikP7LPxn8f/ALz49ftf%2BK76FuW0XwLbReHrPB6ozxb7mRe3Mwz%2BlKUG0vaTWnz/AAWn4mcMe5N/VMNOV%2BrSpp%2BrnaT/APAGeh/FL4%2B/BP4J2f234s/FPQ9ABXdHDqOook0v/XOLO%2BQ%2ByqTXnX/DX3jb4jfuP2aP2ZfFniiJ/wDVeIfEkX9gaSVPSRZLtfPmX2jhOfX07D4Xfsnfs5fBm8/tb4efCHR7TUi259ZuYDdX7t3LXU5eYn6vXodTzUI7Jv10/Bf5l%2BxzjEfxKsaS7QXNL/wOei%2BUDwT40SeN5fiD%2BzHJ8SLXS4Ndb4v3p1OLRJpJLRJf%2BEK8U5ETSqrsuMcsAa97rxn9qD/kt/7OP/ZZr7/1CvFFezVk3d3PUhHkgo3bt1e79dtfkFFFFIoKKKKACiiigAooooA%2BXfgN%2B2N8bfiD8YvC0njbTPCy%2BA/iZrXi3TPBVnpem3Meq6XJot3LFDJeXD3LxXS3dvbXMxWOGA27eXHmfJkFz4NftT/F3xN%2B2F4r%2BCnxe8T6J4b0y38S6hp/gPw3e/CfW7G68RWlvawzfabbXbi7%2BwXrjdOzwW8BdUhYnaFZq6Pwd%2BwZ4G8BfEuT4keF/i743gFre6vd%2BFdAkn06TT/DE%2Bq3yXupvZI9kZCbiRXX/SHn8mOeVLfyFbA35f2WoNa%2BOej/ABu8ffG/xr4lXwxq95qng7wnqp0yPS9CvLm0nsnmh%2By2UNzMy2t1dQp9pnmCrcPgbtrKAcZ/wUL%2BLnwo8NeD/Bnwo8R/E7w9p/inxB8Yfh7LoPhq91qCLUNSSPxnozSNb27OJJgqqxYopACknGDXa%2BL/ANkP4U%2BIfEt7468L3/iHwf4g1Cdpr7WvB%2BvzWUlxIeS0keWhlJPXfGc96y/28P8AkiGh/wDZZvhx/wCproldN4i%2BK3xP8H67dxaz8A9V1HRo52FpqvhrUIbuV48/Kz2zGORTjqF3/jWVavToJOd7eSb%2B%2BydvuPNzKll1WlFYynzRT0fLJ8rtvePvR06prtc5z/hC/wBtD4fc%2BEvi94Y8d2a9LPxlo7afdhR/CLqyyjN7tD9fWj/hqHx94O/d/Gr9lrxnoyr9/UvDaR67ZKvdi1qfOUf70I966LRP2o/gdq96ukX/AI2j0TUDw2neJbaTTplPpi4VAT9Ca720vLTULZLywuo54ZBmOWFwysPUEcGlSxFCur05qXo0/wDgr5pHBQwsKivl%2BNlp0co1Yr1U/fX/AIGjgPA37WH7N/xGuv7O8K/GPRHvd206bfXX2O7B9DBcBJM/8Br0JWVlDKQQRkEd6wPHPwo%2BGHxNtfsfxF%2BHeia7Htwo1bS4rgqP9kupK/UV5837Efwn0QmX4U%2BJ/GXgR852%2BEvFdxFAT/17zGSHHtsxWx0%2B0z6h8VOnVX92Uqb%2B6anH/wAmR2V98Cfhjd%2BPLj4o22h3Fh4hvI0S%2B1XSdUuLSS7VE2IJhDIqzhV4USBgMAjkCvl39ozT/EH7aX7T9n%2Bxl8P/ABzqt54E8IPZah8Xr2WO3eC3mhIa3sYZvK8xrmUrmTLlVwSBlHWub0L46f8ABQb44eJtZ8A/sY%2BKrrxB4XtLm60m6%2BJXxH8O2lhBaXEbGNntHt/muyhzhjCcMBuTFeo/sy/Dv9oP9i74ar8N7X9mi08WmW9lv9f8U%2BH/ABxE97q97Kcy3M0d7FAWc8ADecAAc9T9BCk8opuriWvbWtCF03G6%2BOVr8tk/di3e7u0krP5mtj8Nm0VSWGqU6Dk3UkoNqdn8KdNvmU38c%2BWzimtW7rsNf/Zv%2BKuq3Gu6Xb%2BKdJh0s6jrOtaBcp5hu5NSvI2Fv567VRI7dnbBVmMgWPO0qd2x8AvAPiy18TW3izxJ4EufC1noXguy8M6Lol3eW80pSIh5pma3kePZlYkT5s4RiQu7FRf8Nn%2BDNF/5KX8JfiP4SVf9Zcax4KuJoFP/AF1sxMh%2Bua2fC37YH7LnjKQQaF8evC5mJwLa81aO1mz6eXMUfPtivFdeco8rPVw9bhxYqMoYlKX8spKLera0moSsm3ZL53sVfiN8fPir8OfGV5pY/ZN8Y%2BIvD8Pl/ZPEPha/0%2B5a4zGrP/oslxHKm1iy9Dnbkdaw/wDhv34I6P8AL8SfDHj/AMGN/wBTR8PNShQf9tI4ZI8e%2B7HvXs2m6rpes2q3%2Bj6lb3cD/dmtplkQ/QqSKsUlOlazh9zf/BPWlh8xcnOjidHqlKEZL0TjKLt239WeXeFv22/2QfGTCPQf2lPBjSMcLBda/Bbyk%2BmyZlbP4V6FoXinwx4og%2B1eGvEdhqMWM%2BZY3iTLj6oSKpeKfhh8NfHAZfGvw80PWAwww1TSYbjP18xTXnuu/sCfsYeIJ/tV1%2Bzb4VtZc5Euk6cLFgfUG2KEfhT/ANnfdfc/8ib55DpSn86kH%2BU0evUV4kP2AvgbpnPgfxL8QvDB7f8ACP8AxL1eID6B7hwPpjFH/DHXinTvn8L/ALaPxjs2H3VvNfs75B9Rc2jsf%2B%2BqOSi9p/en%2BjYfWs2j8WFT/wANWP8A7dGLPbaiu7Kzv4jb31pFNGeqSxhh%2BRrxf/hn79rOw%2BXRv29dWdB91dY%2BH2k3GPqY0iJ/Oj/hWP7eWmc2H7VvgrU8dBqfwweLP1MN/wD0o9lDpNfj/kH9o4pfFhKny9m/yqI9J1L4OfCLWSTq/wAK/Dd0T1%2B06Hbvn/vpDWJe/so/st6kSdR/Zs8AXBPXzvB1i%2Bfzirkf7L/4KM2nyxeNPgvfAdGm8O6tAx/75u3H6Uef/wAFHIf%2BYX8Erj/t/wBYhz/5CetF7WO1Vf8AgTMZY2hL48JU/wDBUX/7czcn/Yg/YwuTum/ZI%2BGZJ6keBdPB/SGq7fsGfsSucn9kn4c/h4Osx/KOsv8Atv8A4KLw/wCs%2BHHwam/65eLtVX/0Kxo/4Sn/AIKGLwfg38J2918cagP52FXz4pf8vv8Ayd/5mbxGXPfBz/8ABBqx/sH/ALE0Zyv7JPw4P%2B94Msj/ADjq3bfsU/sb2Z3Wv7Jnw0jI/iXwJp4P5%2BTXP/8ACT/8FDn4X4P/AAlT3fxvqJ/lYUf2t/wUZm%2B54D%2BC0H/XTxTqzn9LIfzoc8U963/k7/zBYjL1tg5/%2BCEdpY/sw/s1aWQdN/Z58DW%2BOnkeErNMflFW7pnwx%2BG2iEHRvh7odoR0NrpMMeP%2B%2BVFeXbv%2BCjs3/LH4JW3/AG11ifH/AI6lH9g/8FE7/wCW5%2BJnwe08H%2BKz8I6nOw/7%2BXqg/lUNVJfFUX/gTZrHG0Y/BhKn/guK/wDb0e2JGkSCONAqgYCqMAUteJf8Kj/bm1D5r/8AbH8NWGeqaX8K0bH0aa9b%2BVH/AAzh%2B0zqfyeJf29vFRjPVNG8H6NZ/kxt5GH5ms/ZQ6zX4/5Gv9oYt/DhKnzdNfnNnttFeJH9i24vefEn7Xfxq1At95V8bJZKfoLOCIgfjVOL9hb9kbV9RudM8US634nv7NA99Fr/AMRtUvJIlOcGSNrraAcHll5xRyUFvP7l/myXi81dksPGN/5qsf8A22DPXfE3xN%2BG/gpWbxl8QdD0kL946nq0MGPrvYV55r37ff7Gnh65%2BxXH7Rfhq9nzgQaJeHUXJ9AtqJCT7CoPhd%2Byx%2BwZfWB1n4WfBT4catBBOYjf2ml2l/skXqvmsHIYZ9c816voPhXwv4Vtvsfhfw3YabDjHlWFmkK/kgAo/wBnXd/cv8xQnnOIgpQlRUXs1zz/ABvGLPIP%2BG6vBOs8/Df4H/Ffxajf6u40f4e3UELf9tb0QIPxNH/C8v2w/FHy%2BCP2KxpcUn%2BqvfG3j2ztto9WhtFuX/DINe3Vm%2BIvGPhDwhb/AGvxZ4q03S4sZ83Ub6OBcfVyBR7Sktofe2/8hzwuO5eavi3Ff3Y04L75c7/E8i/4RD/goH4xGzXvjN8OPBUR5x4Y8K3Oqzj28y8mjT8fK/A0f8MZap4o/efGL9qv4o%2BJy/8Ax8WVtr6aNZyj08nTo4Tj2LmtvW/23f2UtEu/7PHxt0jUrntbeHzJqcjH0C2iyE1S/wCGtb/X/wB38M/2Z/iZrzP/AKi5n8Prpds/v5t9JEce4U0e3qL4bL0S/wCCzypVeGnLlqYh1n29pOr/AOS07r8DQ8D/ALFH7KHw7vP7U8NfAbw819u3f2lqln9vut3r590ZJM%2B%2B6vT4YYbeJYLeJURFCoiLgKB0AA6V5B/wl37cHi3/AJAPwc8DeEIv%2BenibxPNqU2PXyrOJEz7eb%2BNJ/woj9ozxb/yUn9rvVLWB%2BZLDwN4dtdMC%2BwnmE8uPcEVnKc5u8m36nZh8XRoQ5MBgp28oRpR%2B%2Bbi/wDyVs9c1DUtO0izk1HVb%2BG1t4lzLPcShEQepYkAV5j4h/bU/Zs0TUW0LS/iPF4i1McLpXhC0m1adm/u4tFkCn/eIqlYfsXfs0LrMUnjjRrrxjq4UyLN441%2B41WVwOC3lTyNHj6IBXdfDnWPhQVufCnwwi0u1j05sTWOmWQt40G4ruVQqqy7lZdy5GQRmsnUgpKLauzR1s6rSUW6VG%2B126kvuXs4X%2B84P/hen7RfjobPhN%2Bytf2EEnEerfETWItMRD6m2h86cj2Kof5UH4LftNfED5/ix%2B002i2sn%2Bs0f4b6Ollj2%2B2XJlmP1UJ/h6rr/ibw34VsjqXijxBY6bbDrcX92kKD/gTkCuEuf2rPhRdzvY%2BA/wC2PF90jYaDwno014o%2BsoAhA9y9ZVcVhqDtUmk%2B19fu1f4GFfC4Sm7Zhi5Tb%2BzzKCfpClaT%2B%2BRyHxw8LWfgr4j/ALMvhTT9Qv7uGx%2BMF7Glzql89zcSf8UV4oO6SWQlnY56k17xXhfx71a9134ofs0axqOgXWlz3Hxhvnk0%2B9ZDLAf%2BEK8UfK2xmXP0Jr3St4yUoprqe/SVONKKpq0bK2%2B1tN9du%2BvcKKKKZoFFFFABRRRQAUUUUAFFFFAHjP7eH/JEND/7LN8OP/U10SvUrLxv4O1HVZtCsfFOny31vKYp7NLtPNRwcEFM5/SvLf28P%2BSIaH/2Wb4cf%2Bprolem%2BJfh34E8YA/8JR4Q06%2BYj/W3FopcfR8bh%2BBrixv9oqCeD5G76qfMk15OF2nfq015Ey5uhd1vw9oHiaybTPEeh2eoWzfet762SVD9VYEVwd3%2Byl8G47l9Q8IaVqHha7c5%2B1eFNXnsCP8AtnGwjP4oavXXwc0Pw7bve%2BFvH%2Bv%2BHYohu2Q6uZbZPcx3G9QPpiuE/aM%2BP/ib9kL4cSfEjx/8SND1u1aRYNL0yfS3h1DVLlvuW1ssDESSN/uAAckqATXkxxOLxWKjh8Rl8p1Ha3spU6r1dk7KVKqk3fXlto9dHbgx1LA%2BxdfGU48sftNLS397Rr5O/lqry/FW98U/s0eD5vH3ib9sOy03QrQ7V/4WFpME6yPgkRrLAYZZHIBwqh2ODgV4hZftj/8ABQz9qDwfeW37Kv7PFlY6XIxjg%2BJ2qo1tDcQkY86ws71kaVu6s5ZMjDAGtD4YfBj40fGn4pW/7V37eHwR1HVHhi3eA/h7ZG3urHwzA%2BD5k1u7hprsgKSzL8pHQFUWL6ah%2BPnwztittrt9eaJJwPJ1rSp7Xb7bnTb%2Bte3UzjhPh6vKjKvevHR%2B0c1RjL%2B77SKhUa/m9r7Nu/KpJXfg0cHi8feca1TD0Xe0bvnku75%2Bb2afSMfet8TT0Xk/7LWreAf2QvgjpHwW1zwX8QrCLTDNLf65rnhh5lurqaVpppS9n5qAF3baM8KACSQSfV/Dn7SPwE8VuIdF%2BLmgtMTgW9xqCQS59PLlKt%2BldJovjLwj4kAPh7xTp19np9jvUk/9BJpniPwJ4I8YRmLxb4O0rVFIwV1HT45xj/gamsvrWNx0niYYiFXmbblZat%2BdOTX3I9jD4TH4OhGlh6kHCKSScWtFtrCT/I0bW7tb2BbqyuY5onGVkicMp%2BhHWsrxT8Ovh944jMPjXwJo2sIRgrqmlxXAI9MSKa5G6/ZK%2BALzteaT4FOjzscifQNSuLBlPqBBIo/MVH/wzzrulfvPB/7RHj2wZfuR3upw6hEP%2BA3MTsf%2B%2BqPa46PxUk/8Ml%2BUkvzLqTx0octbDxmvKcWvunFFHUv2GP2UL%2B7a/tPg1YaVcN/y38PXM%2BmsPobWSPFQf8MfWOmf8iX%2B0R8VtDVf9VBB4ze7iT2CXiTDHtWr/wAIR%2B1Do3z6R8ddB1fHSLXfB/l5%2Br206fooo/tr9rbSPnvfAfgXWlHbTteurN2/CWBwP%2B%2BjR9ca%2BOlNfK//AKTJ/keW8Bkyd5YCUH3jC340akfyMr/hSX7Uek/L4b/bNup41%2B5F4i8C2F1x6F4PIY/XNH9mft56R%2B7tvFnwp1tF6PeaPqNhI31Mc0yj8FrV/wCFwfGvTvm8Qfst6xsH3n0fxFYXf5K0kbH8qX/hpW3tv%2BQ18DviPYgfeZ/CjTqv427yCj%2B0MKvibXrGS/8AbReyymHw161P/t%2Bsv/S4TRk/8J9%2B2xovy6p%2Bzp4M1nHV9F%2BIEkGfoLizH6kUf8L8/aK0/wCbX/2J/EQQdX0nxZpV1%2BQM0bH8hWt/w1v8DYPl1fXNV01%2B6an4Yv4MfUtBj9as2P7V37N2oHbD8afD6H0ub9YcfXzMYprMMA3b2sf/AAJL82hqeGvanmbXlKVF/wDpUIswP%2BGstXtfl1j9k34uWxH3jF4btrlfwMFy5P5Uv/DZ3gm3/wCQ18IPinpw7m8%2BG2o4H4pGwP4V29j8bvgxqeDp3xd8MXGenk6/bt/J61rTxn4Pv8Gx8V6bNnp5V9G2fyNbxr0J/DNP0af5M6oQx8/4ePjL/uHSf/pNRHmX/DdP7OsPGp6t4lsW7reeAdYTH4/ZSKP%2BG9P2UF/1/wAU2h/6%2BdAv4v8A0OAV67FPDOu%2BCZXHqjA06tTb2Ge9MRTf/cJ/pVPH/wDhvr9j4ff%2BOulJ/wBdYZ1/nGKUft8/scH/AJuC0D8ZXH/stev0hVT1AP1oD2Of/wDP6l/4Ln/8tPIT%2B31%2BxwOn7QOgn2WSQ/yWj/hvj9kI/wCr%2BN2nSf8AXK0uH/8AQYzXr4AHQUUB7HP/APn9S/8ABc//AJaeQf8ADef7Kzf6j4kXU/8A17eGNSl/9AtzR/w3J8Bp/wDkEL4v1A9hZfD3V2z/AN9Wwr1%2Bori%2BsrQZuryKIeskgX%2BdDaW4OhnttcTTXpSf61Tm/hZ8WtG%2BLenXWqaJ4Y8R6bFazCMjxH4euNPaXIzujWdVLr7jjPFcR8crK98L/Erw18RNI1KSGEa3aQ6x5fia6M8iSN5KwRWBJt2RtwLsNr/KSATzXpN58QPAen5%2B3%2BNtIgx187Uolx%2BbVyer/EP9lSDxLH401vxr4A/tqBAkOqT6hZG7RRnCrITvAGTwD3PrWMsRh4fFNL1aX6meNjGrgo0qteHOmnzNqGzvdJSfpa9nrdq55n8d7zQz4%2B1vXr65tJfEElppEvwxukdDNOyXH%2Bk29m3d2Y4dUOSknzfKOKGoeDL3XvFF38P9G8PTp4pe68SRa/efYGjS4sruJnjkeYgK6SN5SIMkqcgABTj1Vv2rv2ZNKVbK1%2BLGisI12xw6eWmwPQCJT%2BlJ/wANYfCO6%2BXQIvEurt2XTPB2oSZ%2BhMIB/OsXmOA/5%2Bx%2BTT/K54tbB5TWrynPFw953aVm9dXqnJ832VK11D3WmUfgDBrGo%2BMdT8UP4S1PRbV/D2l2d7Bqemy2pmv4oysm1ZFXzBGoWPzVyjDGxmAzW/8AFP4UeNviLq1tNonx88TeFNPitvLuLDw7b2Yad9xPmedNBI6nBAwOOM4zms7/AIaL1C8%2BXQv2efiNdsfumbQo7VT9TcTIR%2BVJ/wALR/aE1D/kD/swyQK33ZNZ8YWkOPcrCJT%2BFL6/hn8Lb9Iyf/tqPTpSy1YL6tKU6ivduMaiu73%2Bwo2XkpWet9zK/wCGLfAOqfL48%2BKXxJ8TofvQ6z4%2BvViP/ALZolH4AVo%2BHv2Lf2UvDE/2vT/gJ4bnnzn7RqlgL2TPrvuN7Z985qT7R%2B17qnzRab8PNGRugmub2%2BkX8FWFSfxo/wCFa/tGar82uftJQ2St9%2BHQPCFvHgege4eU/jgUfW5y%2BCjN/JR/9Kl%2BhnDA5Spc1PL3J95Qjf76s5s7/RPDvh/w1aCw8OaFZ6fAOkNlapEg/BQBVvcu7ZuG4jIGecV5r/wzTZaj/wAjf8ZfiBrKt/rIZvEz20T%2B2y1WIYrf%2BH/wN%2BFfwu1KbWvA/hJLS9uYPJuL2S5lnmkj3BtrSSuzEZAPXtVwqYuc1zU1Fecrv7krfiexQqY1yUfYxhD/ABptLyUY2/FFL41%2BIPiB4Q0qPxP4QvGeG3I87T4dENyZCMszSyB8xRBFOSqFs4wTkLVf4n6F4h8S3ukeMfDt7bXelW1nJLdWlz4lubC2kB2Okv7kES4xwJMLgnJq78VpdN1PUNI8HajfavFDqU7R3Y0u8EIMTYjAlOCxVmYLhSDk9cVl%2BONP0OwN3pg8GaPe6T4esINRubDVbM3BK4dAYd7FYtiRNztOSuOM5rxsdmOFpOvzSbUXFNK7cZcrnt25E5S30i9G9DDEYerVqVFf3Xy21eklrpZPTuuttjj73U7XXNeh8ZxaBdwa5r91o2qeGJZLNjMsUkYhmgLgEKIk8wyISAQS2CW56b4ceDvFej%2BKdC0W78M3Npb%2BF7S/tH1QvH5F3bPL/osceGLN%2B7Cs2VARkI5zVy58QeMInnudP1uQpd6he6XbaetvGBaukbmBo8Lu3AISdxYHjAAq98Lb%2BE6l9i0fVZbuyutFtr9xNdtOYZn%2BUjc5LDdtYlSeCD0zXnYTM8PWzGFLlleT3fKuradldvmcW2004qyku2NDLYxrKcpXd09ElfW%2Bu%2B8tbqzSsjoPE3w98CeNbyz1Dxh4O0zVZtO3mxfUbJJvIL7dxXeDgnavPsK1IYbTT7UQwRRwQxLhURQqoo9hwBWN4w0LxF4jmgs9A%2BIM%2BipGrG8SztIZJZQcbcNID5eOeQDnPbHOOnwF8D3bibxbdat4hkByG1zVZZlH/bMFY/8Ax2var4rMViZRweFUu85VIRi3btGM6jttqlr5anrcihUcowSb3eiv66XfzOL/AGmLi3u/jR%2Bzfc2s6Sxv8Zb4pJGwZWH/AAhXijoR1r2mvEv2jtM03RvjB%2BzbpekWENrbQfGS%2BWG3t4giIP8AhCvFHAUcCvba9en7T2a9pbmsr2va/W19bX2vr3NlcKKKKsAooooAKKKKACiiigDmPDnxt%2BDHjH4g6z8JPCPxd8Mar4r8OIr%2BIfDOm6/bT6hpatja1xbI5kgB3LguozketFh8bfgxqvxSvfgbpfxd8MXPjbTbJbzUfB9vr9s%2BqWtsQhE0loH85IyJI8OygHevPIr44/Z48PeM/Bfxs8AaB4g%2BEHjXTtT%2BGnir4j3nj7xMfA%2Botaajb6zrLvafZrpICmo/bHntb1lt2l8hbRjceS0YFXfhp4A%2BIMH7T3hD4cXHwo8UW%2Bu%2BFP2lfG3jrxN4xuPDN1HpV34c1HS9bisfL1Joxb3UhGpaTam1SRpU%2BwMzIqwISAe9/t4f8kQ0P/ss3w4/9TXRK9YstAtrDVZtWgvbwmcHfBJdM0QJIO4KThTx29a8d/bZ%2BD/7T/xh8K6LpnwB8U%2BAlttJ8YeG9e1Dw54w029hfVW0vXrHUzHHqltLILEMloVybG63MQPkDbl%2BSfhr%2Bzl%2B39%2B1HompeOPiN4km1rS4fF2vaLJoDftNalplo0umatd6bNmK28KtujMtpIUO4MUZSQpJUVDLcrx9WFTGTUXSfNF8spO9mrrllFbaPmbTvs%2BnLicVjsPG2Gpc/No/ejFL1ck39yufWf7UP7W3wK%2BD0x8PeJvido91rTQSJaeDrG48/U55tpICQxkkOQCqCQKCxwCWIFcT8B/gx8T/ABP4suv2tf2rtagj8V6nbyL4Y8A3DkW3hzSgSUtkVX%2Ba6chWkf5vmVR24q/An9m744fs1KJfg1/wT9%2BAelXuwrJq7/HPV7i%2BkB%2B8GuZvDDSkHuN2PavTH8a/8FB5MCT9lz4MNg5GfjvqxwfX/kVq8XNuH8vnDHRy%2BcubFxhGcqqTsoPmSgo6xi3ytxcpp8qi0oSmpLDfXa1WjVx3L%2B6bcYQbtdq15OVuaSV7PlildtJys1391qN6Lgz2t3NAtrPbQQWYYEOWAdw%2BcknY2BzxjNW9L1u/1G9gF75L2uoJM0MIi5RUbCknJDBl5PAwSK8sfX/29pNSXV3/AGUfgqblRhZv%2BF76tkcY/wChX64JGfeotK1X9vvSJzPb/sxfB5yE2RLL8e9WIhTOdiD/AIRbgf4D0r52hkfEOGzGM1WvTc7u0mlZPRuLTT5oXp%2BzhaEbRlrZM9qVfDTpNcutu36%2But3q9j1LWvhB8LfELGTV/h/pMrnrMtkiSf8AfSgN%2BtZv/CifC1l/yLPiLxHow7JpviCfZ/3xIzr%2BGK8Ym%2BOX7dnjL4y638Drb9mj4Z2Oq%2BGPDGk67dXlr8ftUjglg1K41K3hRT/wjBLOraVOWDKABJHgsSwXr9M8Wf8ABRCwsY7Of9m74P3TIDmef48arvfknnHhYD26dq9SeS5dicynGrl0FG11VTgnJ6XTUFTqRe%2Brk07eaOGVGg4KV1ftZr8djuP%2BFffFDTuND%2BN926D7ser6Nb3H5sgjb9aNv7Qun8CTwhqar3Zbm0dvy8wZrjv%2BE4/4KF/9Gv8AwZ/8Pxq3/wAy9H/Ccf8ABQv/AKNf%2BDP/AIfjVv8A5l66P9XsND%2BBWrU/8NabX3T9ojL2a6N/f/w52P8AwnHxesv%2BQl8EjMB959M8QwSZ9wsojNH/AAuWS241f4T%2BMbUj7zLo4nUfjC71x3/Ccf8ABQv/AKNf%2BDP/AIfjVv8A5l65fVv2jv27dH%2BM%2BgfA64/ZQ%2BEjap4i8L6vrtncp8ddU8iODTrnTbeZHJ8Mbg7NqkBUBSCEkyVIUMf2Xm1P%2BFj5/wDb9OjP8lTYcs%2BkvyPWv%2BGgvhdF8up6te2Dd11DRrqHH1LR4/Wtrwp8RPA3jlpU8IeKbPUGhUNMltMGZAehI6ivM/8AhOP%2BChf/AEa/8Gf/AA/Grf8AzL0xPF//AAUCilaeP9lf4LK7j5nX466qCfqf%2BEWrfDUc9p117evTnDranKMvk1UlH70NKonq193/AAT0Px7421Lw7JBY%2BH9PjurgzQG780NshhklEYJx/ExJCj254qv8QNft7S6lsYvCun6i1npr3%2Bofb8AJbqSML8jbnO1sA4HHJFeUeLtL/bY8azRXet/sh/BB7mOaJ/tf/C8NU81ljcMELf8ACLZ2nGCPQnGKg8SWv/BRTxAd4%2BAPwbga509rDU3Hxt1Qm5tmJO0f8UwPLYBmAYZxuPHSvNx1LiLmxLpu6k48nK1okp3VpKybfI5O8k0pWtonE4zkmnqv67noF7pfwk1fWI4r34J%2BHbnTZLuO0kv7nTbdnWZ494HlmMgqOjMWBB6AjmqPh/4Tfs6eNNQ%2ByXX7O3h2zS4tjc2Ex0a3X7TFu2lsIoKHODtPYg15H8YPiN%2B3d8HdNtPGniT9mf4RXGh3njjQ7BNLsfjXqhmF7ql/a6RAxkbw2o8hZrxJXAXeArFS2Ah63wmn/BRXw9d2tzqH7PfwXvPsOmLZWgT426tEQu7LOx/4RltzHC9MDg8c8c1DC53LGx9vTi4c2t40rW1T6cyjazh9rmvzaHLLA4WpL36UH6xh/wDInoMv7IX7NMrb/wDhTukIfWGNo/8A0FhTf%2BGQf2dh/qvh55f/AFx1a7T/ANBlFcX4uu/%2BCiHiyKCOH4GfDHSTAzHfpH7QOqRmTOOG3eFGyBjj6msP/hHP%2BCk0f%2Bo8F%2BCB/wBdP2gL1v5%2BD69DFUp0a7jSy6NSP8ylRjf/ALdkk1bbciWU5ZfTDQ/8Biv0R6h/wyL8Ah9zwpqCf9c/FGor/K4o/wCGRvgT28P6wPp4w1T/AOSa8v8A7G/4KdL/AKvwh8PR/vfHO7b/AN1CuX%2BNvxC/4KTfAf4MeLvjj4p8CeA7rS/Bnhi/13UrWw%2BNNw1xNb2ltJcSJGH8JqpcrGQoZlGSMkDmufmr/wDQqf8A4HQ/%2BSRP9lZb/wBA0fuie8f8MjfAjv4d1c/Xxfqh/wDbmj/hkT4AdH8H3r/9dPEuoN/OevL/AOyv%2BCoZ%2B94T%2BHP4fG26H/uo0f2J/wAFNm/1vg/4fn/c%2BOt2v/uoUc1d7ZU//A6H/wAkw/srLf8AoGj90T1D/hkD9nJv9b8NIZf%2Bu%2BoXMn/oUpqW3/ZI/ZptTmP4MaGx/wCmtrv/APQia8q/4Rn/AIKQvzP4I8FN7J%2B0LfJ/LwhR/wAIj/wULf8A1/w18Gv/AN3K6sn/AKB4UFC%2BudMqj86lD/5BjWVZatsLD/wGH/yLPZrP9nL9n6wwbb4I%2BFAR0ZvD9ux/MoTWvY/DD4aaXj%2BzPh5oVvjp5GkQpj8lrwL/AIQb9uuT/j9%2BCHgW59RP%2B1B4g/p4ZFcv8Eb39pv49/Bjwh8ctB/Y7%2BGg03xn4X0/XdOt9Z/aT19p4re7to7iNJVXw8yBwsgDBSwyDgkc1tGWcr%2BHgKUfWrH/ANsoM3hhMPT%2BCjBeiivygfXSJpWjw7UW3tYx2AVF/pVC9%2BIHgPTc/wBo%2BNtIt8dfP1KJMfm1fP8AB8Nv2o4H8wfsNfAiRvW4%2BOmryn/x/wAMGtOy0b9r/TsGw/Yc/Z9hI7x/GPUAfz/4RWtlPieW1OhD1nVl%2BUIHSvaJWSS%2B89WvPj18GrJtknxI0qQ9hb3IlJ%2BmzOagPx88AXHGjRa1qTdl0/w9dyZ%2Bh8sA/nXD2fib9vnT122H7J/wSgHpD8c9VX%2BXhap/%2BE4/4KF/9Gv/AAZ/8Pxq3/zL0fV%2BJanxYilH/DSlL8Z1V%2BKC1Xuvu/4J2P8AwtzWrz5NE%2BDPiydj0N1aw2qn8ZZQR%2BVH/CWfG3UPk0/4R2FlnpJqniNTj6rDG/8AOvJvAP7R37dvxE8V%2BN/CGj/sofCSG48B%2BKItC1WS5%2BOuqBJ55NK0/Uw8W3wwSU8nUYVJYKd6OMYAZuo/4Tj/AIKF/wDRr/wZ/wDD8at/8y9H9lZnU/i4%2Bp/25ClD/wBsm/xDkk95fkdj/Z/7QOpfJdeJfC2lKe9nps904/GSRAfyrX8I%2BGvGGjXct34p%2BIlxrPmR7UgbTobeOI5zuAQbie3LGvN/%2BE4/4KF/9Gv/AAZ/8Pxq3/zL0f8ACcf8FC/%2BjX/gz/4fjVv/AJl63w%2BS4ehWjWlVqzktuerNr/wFcsH84sagk73f3ne%2BN/hjH4vu31KHxLqNnOwt8Jb3G2L9zIXUkKA2QWbGGGCc1F4/8IjULB7s38/224iazZLXai3cBLN5MgYPlQpfLDDYLcjJrz698U/8FEbu5t54/wBnL4QQLA5Z4ofjxqm2b2bPhUnH0x1rlh8dP22/GXxj1z4E3P7JPwlbUvDXhrSNfubl/jzqy27wajcanbQohXwzuLq2mTlwVC4kjwWJYL5uZ5IsXhsZDD0VGpUslJz0k7fGkublceaaV46vo4tp7U4UI1Iynquq1/zX4dD2vUvC9ldT2HjLQdLnW7lMbzG0kXO0xbd4SU%2BXvC4XeRuxxmq0yaTFJPqOmg2BFpJMDGBE0lzFIRKZAmBI/ABzng8da890/Uv2/dO0pNGt/wBmb4QLAihVWL4%2B6vGRyTkFPCwIJzzzViPXf29IrSOx/wCGTvgo8UTbo1l%2BO2rPhs53ZbwuTnPfrXh1%2BFs0x0ed8tOU4wc1duKqqKi3Dk5ZRTbc5O65pRhpozshXw1F%2B6r2btok7Pve%2BvT0uehWg2a3Hutymoyal5hcRnL27orNlu6jlRzwVArptVs7q/sXtLTU5bSRsYuIVUsozzjcCORx%2BNeQ/wDCcf8ABQr/AKNf%2BDP/AIfjVv8A5l6P%2BE4/4KF/9Gv/AAZ/8Pxq3/zL19HlXD1PLsLXw85uUar1teDs003eMk%2Bd8z5ppxbtHqrmNbEurOMkrNfP8%2BnkQ/tI2jWPxi/ZttHu5rgx/GS%2BBmnYF3/4orxRySABn8K9sr5X%2BJ/iX9q3V/2k/wBnS1%2BNfwX%2BHvh/Rx8XNRaO%2B8LfE6%2B1i5M//CF%2BJtqGCfRbJQhBYl/NJBAGw5JX6or3qVKFGlGnBWUUkt3olZattv1bb7tvU523J3YUUUVoIKKKKACiiigAooooAKo%2BKPENh4R8Naj4r1UP9l0yxmu7nyly3lxoXbA7nCmr1R3dpa39rLY3tuk0M0bRzRSqGV1IwVIPBBHGKAPm/wDY1/al%2BPnxU8YaN4W%2BP%2Bm%2BEkfxv8J9O%2BIHhdfCen3Nv/ZdvcShJ9MumnuJhdSQia023cYgWUvL%2B4i2Dd5No/8AwUd%2BOPgv4X6b8UtZ8BeB59L%2BKvwv1Xx18JtF0bTbmyfTZv7W0q2t7XVZmuJVumuG1%2Bynlnhig2NHdDY5KOffv2f/ANhfwh%2BznrFrrXhP4y%2BOtUk0zRdP0DQ08QXOnXA0zw/ZGYwaNCVskY2%2B6YFppC95J5EIe5YRgVg6T/wTG%2BBFpo2t%2BFdd8Z%2BMta0S98Jaj4Y8LaPqOpWyReDdJvbqK7nttLe3to5k/f21m6SXEk8kf2G3VHVY9pAOw/Zd%2BLnxX8Y%2BJfiH8IPjlc%2BHr7xP8PPEtrYy634V0ifT7HVLS6021voZltZ7m5kt3UzywshnlB8gSAgSbE9drz/4A/s%2BaR8BbPxBcnx94h8Xa94s1wat4m8V%2BK2tPt2o3C2sFpFuWyt7e3iSO3toI1SKFF%2BQsQXd3b0CgAr5d%2BA37Y3xt%2BIPxi8LSeNtM8LL4D%2BJmteLdM8FWel6bcx6rpcmi3csUMl5cPcvFdLd29tczFY4YDbt5ceZ8mQfUVeGeDv2DPA3gL4lyfEjwv8AF3xvALW91e78K6BJPp0mn%2BGJ9VvkvdTeyR7IyE3Eiuv%2BkPP5Mc8qW/kK2AAU734qfHLwH%2B214a%2BFXiHUfAOvaZ4%2BtdVlXTPD/he6tdb8P6RYRtJb317ePeSx3cBnmW22i3t9s18uwuFkzk/8E1/2p/i7%2B0t8L7fUP2i/E2iWnxAPhTRNW8R/D21%2BE%2Bt%2BEr7wxNeW7tLFLFq93PJew%2BcksMd1EscTNay4LnITq/h/%2Bxifh1%2B0J4z/AGh9L/aY%2BIl5eeOrsy61oepRaFLaRxJA8NraQTf2YL2G2td7SQwi52CR5HcSNNMZNv4Mfsx2vwp%2BIOs/FvxT8ZfGHj/xXrWj2mkSa94x/s2OS20%2B2lnmjtoYdNs7SBF824ldnMZkclQzlURVAPT6KKKAPl39pr9sb42/Cz4p%2BMW%2BHmmeFm8G/CbRfDep%2BO7bWdNuZtR1iPVL64imjsZo7mOO0a2tYPPDSRXAnklEWIQpkM37XH7S3xM%2BCX7THhPSV1jw94S8CN4UuLrXfiD4i%2BEWs6/b2kzX9tF9jk1Cxu7e30eKSMeYZromPMSE8Jiu2%2BM/7EPw4%2BN3xSPxM1zxz4q0uLUbXSLXxf4a0a6tU07xTBpd7Je2MV8stvJMFjmmlz9nlgMschimMsYVBL8cP2Rp/wBoPwc3w0%2BIf7SfxCbwrqWiyaT4v8N2KaLDb%2BJ7SRmE0V3INN8%2BISRO0L/ZJbfMZxw3zUAeff8ADY3xs/4aB8z%2BzPC3/Csf%2BFz/APCtPsH9m3P9t/bP7N8/%2B1PtX2nyPK%2B2/wCi/Zfs%2B7y/3/n5/c19RV4z/wAMQ/Dj/hf/APwvb/hOfFX2f/hK/wDhKv8AhBPtVr/Yn9v/ANm/2b/amz7P9p837N/yy%2B0fZ/N/f%2BT537yvZqACvnr9rz9on9oDwH8QIfhd%2Bzha%2BEV1PT/hrrvjfWbjxlptzdQ3UFhJaxQ6bCLe4gMElw9xJm6YyrAIB%2B4mMmF%2Bha8j/aX/AGPPB/7TOoWWtaj8SfF/hHULfw/qfh%2B%2B1HwbeWsM2paLqHkG80%2BY3NtOFjka2hYSxCO4iKExTR733AHJ/tVfHzx7Y/sT/wDDXnwj8TeEtJ0uw8Fr4ul0rxr4Cuddk1DFvHd2Vtbx2%2BpWXlXJm8tUJMhMjR7QpAJ5TUv2q/2ovh9%2B0r4O%2BEXx78ReEPBuhXHgDwbc6/r3/Cotev8ATdZ8UajfalaajpdrrEd%2BtlpIV7WxW3S786Rm1CMZlJVT7V43/Zh8F/EL4eaR8KfE3iTWX8PaJ4t0rXLHS7cWkMWzTbyG8stOYJbjdZxy28B2n94yxBXkYFt1T41/stQfHvxNZ3Hjf43%2BNY/Clvfade3nw7sDpkek6jPZXSXULzSmya%2Bx50ULPHHdJG4iCspVnVwD1SiiigDxf/goL8Xfjh%2Bz9%2ByP40%2BPXwCvfCkeseCdCu9cuoPGGi3N9bXdpa20sz26JbXVsySuyIokLlUBYlH4FXf2wfif4u8CeDvDXgX4e6ZoNxr3xH8ZWvhTTZfFWmyXumWqzwz3FzNc20csLXKLaWtziESx%2BY5RS6gkjU/ax/Zxsv2tPgRr37PutfFXxT4R0nxPZS2OuX/hBdO%2B13NlLE8U1tuv7S6jRHV%2BWRFkBUbXXnOd43/ZWk%2BJXw6s/BHjz9oLx1qOp6TqenapoHjExaPBqek6lZklbyEQaclszyBnWRJYJIWSR08sKxUgHz7e/t%2BftV%2BJvDWoaB8OdC8AQeLvh/4a8aav8QJNX0m9ksNXfQNYk0yK1sES7R7IXxgmn86V7n7INiGK5JLD7F8C%2BLtN%2BIHgjRvHujRypZ63pVvf2iTLh1jmiWRQwHQ4YZ968F8R/wDBMn4Q654H07wZpvxY%2BIGizR6Tr%2Bl%2BJ9e0jU7JL/xXZa3efbtWhv3ktHQG4ut0vm2qW8sBkcW7wKxWvojTNN0/RtNt9H0myjtrW0gSG2t4UCpFGoCqigcAAAAD2oAnrmvjFJ8TYfhlrE/wc1rQdO8SxWu/TL3xNpU19YxFWBcywQT28ko8sPhVlj%2BYrlsZrpawviZ4O1T4g%2BA9T8F6N8QdZ8K3Go2/kp4g8Pw2cl5ZgkFmiW9t7i3JIBU%2BZC4wxwAcEAHBfAT4o/GD9ob9iP4f/Gvw/c%2BGtH8a%2BOPhxomuNLeaVcXGl2d5eWUFxKfsy3CTSRKZH2x%2BerEBQZOrV4De/tmftR6D8HNPXwFpHhW6g0f453fgTUPHng74Na7r2jyaFZ6JdXL6jaaJpt611GsWowppLkXMsSSwStnBUL7D4S/Yan8Gfslp%2Bx5pP7W/xXXQbXwQnhXStfhn0S21jTbGNEiieC4ttLjVZkgQQrKUJ2kucy4lGj4P/ZG8TfD34IaT8DfAP7XnxG0S10K4RdJ1fS9E8Kw3FrYJbrBHpqQron2NbZNodSLfzgxx5uzCAA9C%2BDvjfTfiV8J/DXxA0jxxpHia31nQ7W7TxD4ftGt7HUi8SsbiCJ5ZWhjckssbSSMgIVnYgk9JXL/BX4Q%2BDfgH8KdB%2BDnw/iuV0jw9p6Wlm19ctNPKBktLLI3LyOxZ2buzE4HSuooAK8X/AGOfi78cPiVdfFLwd8fr3wpd6z8P/iY3h62vvB%2Bi3Nha3Fq2jaVqSForm6uXMitqDxlw4VxGrBEyRXtFeL/An9jzWPgT408X%2BNbT9rL4leI5PHHiuHxBr1j4htPDoge7S1t7MhPsmkQOkb29pbRMA%2BcQhlKuzswB4Z4I/b/%2BKvgz4b/GL4ifF6Hw1beLvDel%2BINY0T4YN8KNa8M31/HZag%2Bn2V42pX91JFqtvJGunrJc2sOyL7TFkgbEPvP7Mnxc%2BMfiPx94/wDgX8f7vwzqHibwLdaZMuueENGuNOsdQsb%2B082Jvs1xc3LwypLFcxMPOcMsccg2bzGmZrn7BHgb4iar4g1X49fGDxz8QzrngnV/CVpB4kn062TRdJ1OSB72G0/s2ytT5jm0tMTzGWZPsybXUly3Y/AD9nPSvgMfEOsXHxI8TeNPEXivUYbvxB4s8YSWZvrvyLaO2gi22VtbW8cUcUYCrHEuWeR23PI7MAeiUUUUAeL/AAV%2BLvxw1r9rj4s/AX4qXvhS60fwxoXh7XPCE/h/Rbm1uYrTUrnWYfs94811MtxKi6ZE3mRpAuZXGw4Brn/EnxE/aW8K/t%2BeC/hBpnir4c6r4c8XaRrGseIbOD4fXlvrOl6DpyJFb79R/tV4pZDqGo26qrWiqyNdFVUqTXQaL%2Bx5rGgftF%2BMP2ktO/ay%2BJQ1DxnpVlpl7oT2nh06fZ2lnPdTWkUA/sjzx5RvbpQ0k0jMsx3lyqFe00v4F%2BFdL%2BOHiX9oFNW1ObX/ABJ4Y03QG8%2BaMw6dZWUt3Mi2yiMFGeW9leRmL7ykQ4EagAHj3/BOL9qf4u/tH%2BBfN/aL8TaJZeO/%2BEZ0jVdZ%2BHlv8J9b8KX3hxrqOUyLIur3cz6hAZUeKO6gSOItbS8uThPpWvLvg3%2By/bfC34i6p8X/ABb8afGXxB8U6lolvoya34yOmxvZ6fDLJMLeGLTbK0gUNLKzu7RtIxCAvtRVHqNABXg/7Wvxm/aC%2BA3iTwv4u8GeIPA974e1rxdoXh228C33hy8k1zXLm9vlhuWtL2O9WKEwWrSXWxrSYeXaTM7xoC8fvFeM/En9jlfiJ%2B07on7U1v8AtHfEDQtV8P6GNK0zQNMh0S40uCB5vNuWjS%2B0y4mhluQI45pYpUdo4Y0VkA5AOF/bY/ah%2BM3wt8ZeILP4NeHPB10nwn%2BFF18SvEw8WaVPdTajCrXUMWn2EkVxCLGeWG11BTduJ1TdGvkuruRV0j9tn4xa38bLXXbHTvC5%2BFV38X0%2BHUNi2l3I1w3LaWLkaobn7T5Ai%2B2H7N9k%2Bz7vL/f%2Bfn9zXcfHT9hHwV%2B0G0U3jb4weOLaa78L3fhjxfPpFxp0DeK9CuZhLJpl8PsRVYvvoslsLedEmlCyjzHJtR/sOfDSH49r8cIfGvihLRPFI8UL4CW5tBoa68NN/s0amE%2BzfafN%2BzceV9o%2Bz%2BZ%2B%2B8nzv3lAHtFFFFABRRRQAUUUUAFFFFABRRRQAUUUUAFFFFABRRRQAUUUUAFFFFABRRRQAUUUUAFFFFABRRRQAUUUUAFFFFABRRRQAUUUUAFFFFABRRRQAUUUUAFFFFABRRRQAUUUUAFFFFABRRRQAUUUUAFFFFABRRRQB//Z\">"
      ]
     },
     "metadata": {},
     "output_type": "display_data"
    }
   ],
   "source": [
    "try:\n",
    "    display_html(HTML(anim.to_html5_video()))\n",
    "# In case the build-in renderers are unaviable, fall back to\n",
    "# a custom one, that doesn't require external libraries\n",
    "except RuntimeError:\n",
    "    anim.save(None, writer=matplotlib_utils.SimpleMovieWriter(0.001))"
   ]
  },
  {
   "cell_type": "markdown",
   "metadata": {},
   "source": [
    "# Logistic regression\n",
    "Your assignment is to implement the logistic regression\n",
    "\n",
    "Plan:\n",
    "* Use a shared variable for weights\n",
    "* Use a matrix placeholder for `X`\n",
    " \n",
    "We shall train on a two-class MNIST dataset\n",
    "* please note that target `y` are `{0,1}` and not `{-1,1}` as in some formulae"
   ]
  },
  {
   "cell_type": "code",
   "execution_count": 34,
   "metadata": {},
   "outputs": [
    {
     "name": "stdout",
     "output_type": "stream",
     "text": [
      "y [shape - (360,)]: [0 1 0 1 0 1 0 0 1 1]\n",
      "X [shape - (360, 64)]:\n"
     ]
    }
   ],
   "source": [
    "from sklearn.datasets import load_digits\n",
    "mnist = load_digits(2)\n",
    "\n",
    "X, y = mnist.data, mnist.target\n",
    "\n",
    "print(\"y [shape - %s]:\" % (str(y.shape)), y[:10])\n",
    "print(\"X [shape - %s]:\" % (str(X.shape)))"
   ]
  },
  {
   "cell_type": "code",
   "execution_count": 35,
   "metadata": {},
   "outputs": [
    {
     "name": "stdout",
     "output_type": "stream",
     "text": [
      "X:\n",
      " [[ 0.  0.  5. 13.  9.  1.  0.  0.  0.  0.]\n",
      " [ 0.  0.  0. 12. 13.  5.  0.  0.  0.  0.]\n",
      " [ 0.  0.  1.  9. 15. 11.  0.  0.  0.  0.]]\n",
      "y:\n",
      " [0 1 0 1 0 1 0 0 1 1]\n"
     ]
    },
    {
     "data": {
      "image/png": "[encoded data removed]",
      "text/plain": [
       "<Figure size 432x288 with 1 Axes>"
      ]
     },
     "metadata": {},
     "output_type": "display_data"
    }
   ],
   "source": [
    "print('X:\\n',X[:3,:10])\n",
    "print('y:\\n',y[:10])\n",
    "plt.imshow(X[0].reshape([8,8]));"
   ]
  },
  {
   "cell_type": "markdown",
   "metadata": {},
   "source": [
    "It's your turn now!\n",
    "Just a small reminder of the relevant math:\n",
    "\n",
    "$$\n",
    "P(y=1|X) = \\sigma(X \\cdot W + b)\n",
    "$$\n",
    "$$\n",
    "\\text{loss} = -\\log\\left(P\\left(y_\\text{predicted} = 1\\right)\\right)\\cdot y_\\text{true} - \\log\\left(1 - P\\left(y_\\text{predicted} = 1\\right)\\right)\\cdot\\left(1 - y_\\text{true}\\right)\n",
    "$$\n",
    "\n",
    "$\\sigma(x)$ is available via `tf.nn.sigmoid` and matrix multiplication via `tf.matmul`"
   ]
  },
  {
   "cell_type": "code",
   "execution_count": 36,
   "metadata": {},
   "outputs": [],
   "source": [
    "from sklearn.model_selection import train_test_split\n",
    "X_train, X_test, y_train, y_test = train_test_split(\n",
    "    X, y, random_state=42)"
   ]
  },
  {
   "cell_type": "code",
   "execution_count": 38,
   "metadata": {},
   "outputs": [
    {
     "data": {
      "text/plain": [
       "array([[0., 0., 0.],\n",
       "       [0., 0., 0.]])"
      ]
     },
     "execution_count": 38,
     "metadata": {},
     "output_type": "execute_result"
    }
   ],
   "source": [
    "np.zeros((2,3))"
   ]
  },
  {
   "cell_type": "markdown",
   "metadata": {},
   "source": [
    "__Your code goes here.__ For the training and testing scaffolding to work, please stick to the names in comments."
   ]
  },
  {
   "cell_type": "code",
   "execution_count": 93,
   "metadata": {},
   "outputs": [],
   "source": [
    "# Model parameters - weights and bias\n",
    "weights = tf.Variable(initial_value=np.zeros((X.shape[1],1)),dtype='float64',name='weights')# shape should be (X.shape[1], 1)\n",
    "\n",
    "                              \n",
    "b = tf.Variable(initial_value=0.0,dtype='float64',name='bias')"
   ]
  },
  {
   "cell_type": "code",
   "execution_count": 92,
   "metadata": {},
   "outputs": [],
   "source": [
    "# Placeholders for the input data\n",
    "input_X = tf.placeholder(dtype='float64',shape=(None,X.shape[1]))\n",
    "input_y = tf.placeholder(dtype='float64',shape=(None))"
   ]
  },
  {
   "cell_type": "code",
   "execution_count": 122,
   "metadata": {},
   "outputs": [],
   "source": [
    "# The model code\n",
    "\n",
    "# Compute a vector of predictions, resulting shape should be [input_X.shape[0],]\n",
    "# This is 1D, if you have extra dimensions, you can  get rid of them with tf.squeeze .\n",
    "# Don't forget the sigmoid.\n",
    "predicted_y = tf.nn.sigmoid(tf.matmul(input_X,weights)+b)\n",
    "predicted_y = tf.transpose(predicted_y)[0]\n",
    "# Loss. Should be a scalar number - average loss over all the objects\n",
    "# tf.reduce_mean is your friend here\n",
    "loss = tf.reduce_mean(-tf.log(predicted_y)*input_y-tf.log(1-predicted_y)*(1-input_y))\n",
    "\n",
    "# See above for an example. tf.train.*Optimizer\n",
    "optimizer = tf.train.AdamOptimizer().minimize(loss)"
   ]
  },
  {
   "cell_type": "markdown",
   "metadata": {},
   "source": [
    "A test to help with the debugging"
   ]
  },
  {
   "cell_type": "code",
   "execution_count": 123,
   "metadata": {},
   "outputs": [],
   "source": [
    "validation_weights = 1e-3 * np.fromiter(map(lambda x:\n",
    "        s.run(weird_psychotic_function, {my_scalar:x, my_vector:[1, 0.1, 2]}),\n",
    "                                   0.15 * np.arange(1, X.shape[1] + 1)),\n",
    "                                   count=X.shape[1], dtype=np.float32)[:, np.newaxis]\n",
    "# Compute predictions for given weights and bias\n",
    "prediction_validation = s.run(\n",
    "    predicted_y, {\n",
    "    input_X: X,\n",
    "    weights: validation_weights,\n",
    "    b: 1e-1})\n",
    "\n",
    "# Load the reference values for the predictions\n",
    "validation_true_values = np.loadtxt(\"validation_predictons.txt\")\n",
    "#prediction_validation = tf.transpose(prediction_validation)\n",
    "#print(prediction_validation)\n",
    "assert prediction_validation.shape == (X.shape[0],),\\\n",
    "       \"Predictions must be a 1D array with length equal to the number \" \\\n",
    "       \"of examples in input_X\"\n",
    "assert np.allclose(validation_true_values, prediction_validation)\n",
    "loss_validation = s.run(\n",
    "        loss, {\n",
    "            input_X: X[:100],\n",
    "            input_y: y[-100:],\n",
    "            weights: validation_weights+1.21e-3,\n",
    "            b: -1e-1})\n",
    "\n",
    "assert np.allclose(loss_validation, 0.728689)"
   ]
  },
  {
   "cell_type": "code",
   "execution_count": 124,
   "metadata": {},
   "outputs": [
    {
     "name": "stdout",
     "output_type": "stream",
     "text": [
      "loss at iter 0:0.6393\n",
      "train auc: 1.0\n",
      "test auc: 1.0\n",
      "loss at iter 1:0.5895\n",
      "train auc: 1.0\n",
      "test auc: 1.0\n",
      "loss at iter 2:0.5433\n",
      "train auc: 1.0\n",
      "test auc: 1.0\n",
      "loss at iter 3:0.5007\n",
      "train auc: 1.0\n",
      "test auc: 1.0\n",
      "loss at iter 4:0.4614\n",
      "train auc: 1.0\n",
      "test auc: 1.0\n"
     ]
    }
   ],
   "source": [
    "from sklearn.metrics import roc_auc_score\n",
    "s.run(tf.global_variables_initializer())\n",
    "for i in range(5):\n",
    "    s.run(optimizer, {input_X: X_train, input_y: y_train})\n",
    "    loss_i = s.run(loss, {input_X: X_train, input_y: y_train})\n",
    "    print(\"loss at iter %i:%.4f\" % (i, loss_i))\n",
    "    print(\"train auc:\", roc_auc_score(y_train, s.run(predicted_y, {input_X:X_train})))\n",
    "    print(\"test auc:\", roc_auc_score(y_test, s.run(predicted_y, {input_X:X_test})))"
   ]
  },
  {
   "cell_type": "markdown",
   "metadata": {},
   "source": [
    "### Coursera submission"
   ]
  },
  {
   "cell_type": "code",
   "execution_count": 110,
   "metadata": {},
   "outputs": [],
   "source": [
    "grade_submitter = grading.Grader(\"BJCiiY8sEeeCnhKCj4fcOA\")"
   ]
  },
  {
   "cell_type": "code",
   "execution_count": 111,
   "metadata": {},
   "outputs": [],
   "source": [
    "test_weights = 1e-3 * np.fromiter(map(lambda x:\n",
    "    s.run(weird_psychotic_function, {my_scalar:x, my_vector:[1, 2, 3]}),\n",
    "                               0.1 * np.arange(1, X.shape[1] + 1)),\n",
    "                               count=X.shape[1], dtype=np.float32)[:, np.newaxis]"
   ]
  },
  {
   "cell_type": "markdown",
   "metadata": {},
   "source": [
    "First, test prediction and loss computation. This part doesn't require a fitted model."
   ]
  },
  {
   "cell_type": "code",
   "execution_count": 112,
   "metadata": {},
   "outputs": [],
   "source": [
    "prediction_test = s.run(\n",
    "    predicted_y, {\n",
    "    input_X: X,\n",
    "    weights: test_weights,\n",
    "    b: 1e-1})"
   ]
  },
  {
   "cell_type": "code",
   "execution_count": 113,
   "metadata": {},
   "outputs": [],
   "source": [
    "assert prediction_test.shape == (X.shape[0],),\\\n",
    "       \"Predictions must be a 1D array with length equal to the number \" \\\n",
    "       \"of examples in X_test\""
   ]
  },
  {
   "cell_type": "code",
   "execution_count": 114,
   "metadata": {},
   "outputs": [],
   "source": [
    "grade_submitter.set_answer(\"0ENlN\", prediction_test)"
   ]
  },
  {
   "cell_type": "code",
   "execution_count": 115,
   "metadata": {},
   "outputs": [],
   "source": [
    "loss_test = s.run(\n",
    "    loss, {\n",
    "        input_X: X[:100],\n",
    "        input_y: y[-100:],\n",
    "        weights: test_weights+1.21e-3,\n",
    "        b: -1e-1})\n",
    "# Yes, the X/y indices mistmach is intentional"
   ]
  },
  {
   "cell_type": "code",
   "execution_count": 116,
   "metadata": {},
   "outputs": [],
   "source": [
    "grade_submitter.set_answer(\"mMVpM\", loss_test)"
   ]
  },
  {
   "cell_type": "code",
   "execution_count": 117,
   "metadata": {},
   "outputs": [],
   "source": [
    "grade_submitter.set_answer(\"D16Rc\", roc_auc_score(y_test, s.run(predicted_y, {input_X:X_test})))"
   ]
  },
  {
   "cell_type": "markdown",
   "metadata": {},
   "source": [
    "Please use the credentials obtained from the Coursera assignment page."
   ]
  },
  {
   "cell_type": "code",
   "execution_count": 118,
   "metadata": {},
   "outputs": [
    {
     "name": "stdout",
     "output_type": "stream",
     "text": [
      "Submitted to Coursera platform. See results on assignment page!\n"
     ]
    }
   ],
   "source": [
    "grade_submitter.submit('mdasadul@ualberta.ca', 'eWyDLXw2CTxj1MGG')"
   ]
  }
 ],
 "metadata": {
  "kernelspec": {
   "display_name": "Python 3",
   "language": "python",
   "name": "python3"
  },
  "language_info": {
   "codemirror_mode": {
    "name": "ipython",
    "version": 3
   },
   "file_extension": ".py",
   "mimetype": "text/x-python",
   "name": "python",
   "nbconvert_exporter": "python",
   "pygments_lexer": "ipython3",
   "version": "3.6.4"
  }
 },
 "nbformat": 4,
 "nbformat_minor": 1
}
