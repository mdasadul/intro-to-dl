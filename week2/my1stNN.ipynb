{
 "cells": [
  {
   "cell_type": "code",
   "execution_count": 102,
   "metadata": {},
   "outputs": [
    {
     "name": "stdout",
     "output_type": "stream",
     "text": [
      "(50000, 28, 28) (50000,)\n"
     ]
    },
    {
     "data": {
      "image/png": "[encoded data removed]",
      "text/plain": [
       "<Figure size 432x288 with 1 Axes>"
      ]
     },
     "metadata": {},
     "output_type": "display_data"
    }
   ],
   "source": [
    "from preprocessed_mnist import load_dataset\n",
    "X_train, y_train, X_val, y_val, X_test, y_test = load_dataset()\n",
    "print(X_train.shape, y_train.shape)\n",
    "import matplotlib.pyplot as plt\n",
    "%matplotlib inline\n",
    "plt.imshow(X_train[0], cmap=\"Greys\");"
   ]
  },
  {
   "cell_type": "code",
   "execution_count": 103,
   "metadata": {},
   "outputs": [],
   "source": [
    "import numpy as np\n",
    "import tensorflow as tf\n"
   ]
  },
  {
   "cell_type": "code",
   "execution_count": 104,
   "metadata": {},
   "outputs": [],
   "source": [
    "X_train = np.reshape(X_train,(-1,784))\n",
    "X_val = np.reshape(X_val,(-1,784))\n",
    "X_test = np.reshape(X_test,(-1,784))"
   ]
  },
  {
   "cell_type": "code",
   "execution_count": 105,
   "metadata": {},
   "outputs": [],
   "source": [
    "y_train=np.eye(10)[y_train]\n",
    "y_val=np.eye(10)[y_val]\n",
    "y_test=np.eye(10)[y_test]\n"
   ]
  },
  {
   "cell_type": "code",
   "execution_count": 106,
   "metadata": {},
   "outputs": [
    {
     "data": {
      "text/plain": [
       "(10000, 784)"
      ]
     },
     "execution_count": 106,
     "metadata": {},
     "output_type": "execute_result"
    }
   ],
   "source": [
    "X_test.shape"
   ]
  },
  {
   "cell_type": "code",
   "execution_count": 107,
   "metadata": {},
   "outputs": [],
   "source": [
    "X = tf.placeholder('float32',shape=[None,784],name='input_X')\n",
    "y = tf.placeholder('float32',[None,10],name='input_y')\n",
    "batch_size = tf.placeholder(tf.int64)\n",
    "hidden_size = 100"
   ]
  },
  {
   "cell_type": "code",
   "execution_count": 108,
   "metadata": {},
   "outputs": [],
   "source": [
    "dataset = tf.data.Dataset.from_tensor_slices((X,y)).shuffle(buffer_size=10000).batch(batch_size).repeat()\n",
    "iterator = dataset.make_initializable_iterator()\n",
    "feature,label = iterator.get_next()"
   ]
  },
  {
   "cell_type": "code",
   "execution_count": 109,
   "metadata": {},
   "outputs": [],
   "source": [
    "weights1 = tf.Variable(initial_value=tf.random_normal([784,hidden_size]))\n",
    "biases1 = tf.Variable(initial_value = tf.random_normal([hidden_size]))\n",
    "\n",
    "weights2 = tf.Variable(initial_value=tf.random_normal([hidden_size,10]))\n",
    "biases2 = tf.Variable(initial_value = tf.random_normal([10]))\n"
   ]
  },
  {
   "cell_type": "code",
   "execution_count": 110,
   "metadata": {},
   "outputs": [],
   "source": [
    "# The model code\n",
    "\n",
    "# Compute a vector of predictions, resulting shape should be [input_X.shape[0],]\n",
    "# This is 1D, if you have extra dimensions, you can  get rid of them with tf.squeeze .\n",
    "# Don't forget the sigmoid.\n",
    "layer1 = tf.nn.sigmoid(tf.matmul(feature,weights1)+biases1)\n",
    "logits = tf.matmul(layer1,weights2)+biases2\n",
    "\n",
    "prediction_y = tf.nn.softmax(logits)\n",
    "loss = tf.reduce_mean(tf.nn.softmax_cross_entropy_with_logits_v2(logits = logits, labels = label))\n",
    "\n",
    "# See above for an example. tf.train.*Optimizer\n",
    "optimizer = tf.train.AdamOptimizer(0.01).minimize(loss)\n",
    "correct_pred = tf.equal(tf.argmax(prediction_y, 1), tf.argmax(label, 1))\n",
    "accuracy = tf.reduce_mean(tf.cast(correct_pred, tf.float32))"
   ]
  },
  {
   "cell_type": "code",
   "execution_count": 113,
   "metadata": {},
   "outputs": [],
   "source": [
    "BATCH_SIZE=128\n",
    "EPOCHS=10\n",
    "n_batches = X_train.shape[0]//BATCH_SIZE"
   ]
  },
  {
   "cell_type": "code",
   "execution_count": 115,
   "metadata": {},
   "outputs": [
    {
     "name": "stdout",
     "output_type": "stream",
     "text": [
      "epoch 0 Train Loss 0.630518 valid Loss 0.279135 train accuracy=0.840264 valid accuracy = 0.918700\n",
      "epoch 1 Train Loss 0.230355 valid Loss 0.208281 train accuracy=0.931771 valid accuracy = 0.939600\n",
      "epoch 2 Train Loss 0.159821 valid Loss 0.169364 train accuracy=0.951883 valid accuracy = 0.951300\n",
      "epoch 3 Train Loss 0.120929 valid Loss 0.157120 train accuracy=0.963081 valid accuracy = 0.954300\n",
      "epoch 4 Train Loss 0.095102 valid Loss 0.153006 train accuracy=0.970413 valid accuracy = 0.954900\n",
      "epoch 5 Train Loss 0.078403 valid Loss 0.135888 train accuracy=0.975200 valid accuracy = 0.959800\n",
      "epoch 6 Train Loss 0.064844 valid Loss 0.146606 train accuracy=0.980128 valid accuracy = 0.959800\n",
      "epoch 7 Train Loss 0.055516 valid Loss 0.139880 train accuracy=0.982873 valid accuracy = 0.960400\n",
      "epoch 8 Train Loss 0.049336 valid Loss 0.142899 train accuracy=0.984956 valid accuracy = 0.962100\n",
      "epoch 9 Train Loss 0.042977 valid Loss 0.136504 train accuracy=0.986679 valid accuracy = 0.963600\n",
      "Test Loss 0.145942  Test Accuracy=0.962700\n"
     ]
    }
   ],
   "source": [
    "init = tf.global_variables_initializer()\n",
    "with tf.Session() as sess:\n",
    "    sess.run(init)\n",
    "    \n",
    "    train_losses_list =[]\n",
    "    valid_losses_list =[]\n",
    "    for i in range(EPOCHS):\n",
    "        sess.run(iterator.initializer, feed_dict={X:X_train,y:y_train,batch_size:BATCH_SIZE})\n",
    "        total_loss = 0.\n",
    "        train_acc = 0\n",
    "        for _ in range(n_batches):\n",
    "            _,losses,acc=sess.run([optimizer,loss,accuracy])\n",
    "            total_loss += losses\n",
    "            train_acc +=acc\n",
    "        epoch_loss = total_loss/n_batches\n",
    "        train_losses_list.append(epoch_loss)\n",
    "        #print('Loss after apoch %d   %f accuracy = %f'%(i,epoch_loss,train_acc/n_batches))\n",
    "    \n",
    "        sess.run(iterator.initializer, feed_dict={X:X_val,y:y_val,batch_size:X_val.shape[0]})\n",
    "        val_loss,val_acc=sess.run([loss,accuracy])\n",
    "        valid_losses_list.append(val_loss)\n",
    "        print('epoch %d Train Loss %f valid Loss %f train accuracy=%f valid accuracy = %f'%(i, epoch_loss, val_loss, train_acc/n_batches, val_acc))\n",
    "    sess.run(iterator.initializer, feed_dict={X:X_test,y:y_test,batch_size:X_test.shape[0]})\n",
    "    test_loss,test_acc=sess.run([loss,accuracy])\n",
    "    print('Test Loss %f  Test Accuracy=%f'%(test_loss,test_acc))"
   ]
  },
  {
   "cell_type": "code",
   "execution_count": 117,
   "metadata": {},
   "outputs": [
    {
     "data": {
      "text/plain": [
       "[<matplotlib.lines.Line2D at 0x1938a0fa828>]"
      ]
     },
     "execution_count": 117,
     "metadata": {},
     "output_type": "execute_result"
    },
    {
     "data": {
      "image/png": "[encoded data removed]",
      "text/plain": [
       "<Figure size 432x288 with 1 Axes>"
      ]
     },
     "metadata": {},
     "output_type": "display_data"
    }
   ],
   "source": [
    "plt.plot(train_losses_list)\n",
    "plt.plot(valid_losses_list)"
   ]
  },
  {
   "cell_type": "code",
   "execution_count": null,
   "metadata": {},
   "outputs": [],
   "source": []
  }
 ],
 "metadata": {
  "kernelspec": {
   "display_name": "Python 3",
   "language": "python",
   "name": "python3"
  },
  "language_info": {
   "codemirror_mode": {
    "name": "ipython",
    "version": 3
   },
   "file_extension": ".py",
   "mimetype": "text/x-python",
   "name": "python",
   "nbconvert_exporter": "python",
   "pygments_lexer": "ipython3",
   "version": "3.6.4"
  }
 },
 "nbformat": 4,
 "nbformat_minor": 2
}
